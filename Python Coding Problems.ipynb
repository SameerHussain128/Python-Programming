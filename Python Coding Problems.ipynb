{
 "cells": [
  {
   "cell_type": "markdown",
   "id": "3e7d5440",
   "metadata": {},
   "source": [
    "### 1. Check whether a year is leap year or not.\n",
    "👉 Conditions:\n",
    "* It has 366 days\n",
    "* Feb has 29 days"
   ]
  },
  {
   "cell_type": "code",
   "execution_count": null,
   "id": "b84851ce",
   "metadata": {},
   "outputs": [],
   "source": [
    "n = int(input(\"Given Year : \"))\n",
    "if n%400 == 0:\n",
    "    print(\"Leap Year\")\n",
    "elif n%4 == 0 and n%100!=0:\n",
    "    print(\"Leap Year\")\n",
    "else:\n",
    "    print(\"Not a Leap Year\")"
   ]
  },
  {
   "cell_type": "markdown",
   "id": "8f37bbaa",
   "metadata": {},
   "source": [
    "### 2. How to Remove Duplicates? "
   ]
  },
  {
   "cell_type": "code",
   "execution_count": null,
   "id": "416f14fc",
   "metadata": {},
   "outputs": [],
   "source": [
    "l = [10,20,30,10,10,20,30,10,40]\n",
    "s = set(l)\n",
    "lst = list(s)\n",
    "sorted_list = sorted(lst)\n",
    "print(sorted_list)"
   ]
  },
  {
   "cell_type": "code",
   "execution_count": null,
   "id": "70ce58ee",
   "metadata": {},
   "outputs": [],
   "source": [
    "# Taking input elements from user\n",
    "l = [eval(i) for i in input().split()]\n",
    "s = set(l)\n",
    "lst = list(s)\n",
    "sorted_list = sorted(lst)\n",
    "print(sorted_list)"
   ]
  },
  {
   "cell_type": "markdown",
   "id": "0cde36f1",
   "metadata": {},
   "source": [
    "### 3. Print first 10 Natural Numbers?"
   ]
  },
  {
   "cell_type": "code",
   "execution_count": null,
   "id": "cf2aef1a",
   "metadata": {},
   "outputs": [],
   "source": [
    "i=1\n",
    "while i<=10:\n",
    "    print(i)\n",
    "    i+=1"
   ]
  },
  {
   "cell_type": "code",
   "execution_count": null,
   "id": "8bb6e1a5",
   "metadata": {},
   "outputs": [],
   "source": [
    "for i in range(1,11):\n",
    "    print(i)"
   ]
  },
  {
   "cell_type": "markdown",
   "id": "ccc83f54",
   "metadata": {},
   "source": [
    "### 4. How to print next Prime? "
   ]
  },
  {
   "cell_type": "code",
   "execution_count": null,
   "id": "85762118",
   "metadata": {},
   "outputs": [],
   "source": [
    "def NextPrime(n):\n",
    "    while True:\n",
    "        n+=1\n",
    "        for i in range(2,n):\n",
    "            if n%i==0:\n",
    "                break\n",
    "        else:\n",
    "            return n\n",
    "print(NextPrime(11))"
   ]
  },
  {
   "cell_type": "code",
   "execution_count": null,
   "id": "e09d0ae7",
   "metadata": {},
   "outputs": [],
   "source": [
    "# From User\n",
    "def NextPrime(n):\n",
    "    while True:\n",
    "        n+=1\n",
    "        for i in range(2,n):\n",
    "            if n%i==0:\n",
    "                break\n",
    "        else:\n",
    "            return n\n",
    "n = int(input())\n",
    "print(NextPrime(n))"
   ]
  },
  {
   "cell_type": "markdown",
   "id": "612f1413",
   "metadata": {},
   "source": [
    "### 5. How to Reverse a Tuple? "
   ]
  },
  {
   "cell_type": "code",
   "execution_count": null,
   "id": "fd1e337c",
   "metadata": {},
   "outputs": [],
   "source": [
    "t = eval(input('Give Number comma seperated'))\n",
    "l = list(t)\n",
    "l.reverse()\n",
    "print(tuple(l))"
   ]
  },
  {
   "cell_type": "code",
   "execution_count": null,
   "id": "fe831968",
   "metadata": {},
   "outputs": [],
   "source": [
    "t = eval(input('Give Number comma seperated'))\n",
    "l = list(t)\n",
    "l.forward()\n",
    "print(tuple(l))"
   ]
  },
  {
   "cell_type": "markdown",
   "id": "4744793d",
   "metadata": {},
   "source": [
    "### Single line code for Factorial Number "
   ]
  },
  {
   "cell_type": "code",
   "execution_count": null,
   "id": "1f32c9c3",
   "metadata": {},
   "outputs": [],
   "source": [
    "f = lambda n : n*f(n-1) if n>0 else 1\n",
    "print(f(8))"
   ]
  },
  {
   "cell_type": "markdown",
   "id": "107094ca",
   "metadata": {},
   "source": [
    "### How to remove Duplicates from String?"
   ]
  },
  {
   "cell_type": "code",
   "execution_count": null,
   "id": "4ca0ffc6",
   "metadata": {},
   "outputs": [],
   "source": [
    "s = input(\"String is \")\n",
    "s1=\"\"\n",
    "i=0\n",
    "for x in s:\n",
    "    if(s.index(x)==i):\n",
    "        s1+=x\n",
    "    i+=1\n",
    "print(s1)"
   ]
  },
  {
   "cell_type": "markdown",
   "id": "b51f0269",
   "metadata": {},
   "source": [
    "### Sum of Squares using Recursion?"
   ]
  },
  {
   "cell_type": "code",
   "execution_count": null,
   "id": "c4612152",
   "metadata": {},
   "outputs": [],
   "source": [
    "def sum(n):\n",
    "    if n==1:\n",
    "        return 1\n",
    "    return n**2 + sum(n-1)\n",
    "print(sum(5))"
   ]
  },
  {
   "cell_type": "code",
   "execution_count": null,
   "id": "c2ce5203",
   "metadata": {},
   "outputs": [],
   "source": [
    "s = input(\"Give Number\")\n",
    "    if n==1:\n",
    "        return 1\n",
    "    return n**2 + sum(n-1)\n",
    "print(s)"
   ]
  },
  {
   "cell_type": "markdown",
   "id": "284ada68",
   "metadata": {},
   "source": [
    "### Reverse a string using Slicing "
   ]
  },
  {
   "cell_type": "code",
   "execution_count": null,
   "id": "c4df68cf",
   "metadata": {},
   "outputs": [],
   "source": [
    "s = input(\"Give String \")\n",
    "s1 = s[len(s)-1::-1]\n",
    "print(s1)"
   ]
  },
  {
   "cell_type": "markdown",
   "id": "4006284d",
   "metadata": {},
   "source": [
    "### Check divisibility of Number "
   ]
  },
  {
   "cell_type": "code",
   "execution_count": null,
   "id": "489c1c5a",
   "metadata": {},
   "outputs": [],
   "source": [
    "n = int(input(\"Give Number\"))\n",
    "d = int(input(\"to which divide\"))\n",
    "if(n%d)==0:\n",
    "    print(\"Divided\")\n",
    "else:\n",
    "    print(\"Not Divided\")"
   ]
  },
  {
   "cell_type": "markdown",
   "id": "be04a4f7",
   "metadata": {},
   "source": [
    "###  Sort in Dictionary order"
   ]
  },
  {
   "cell_type": "code",
   "execution_count": null,
   "id": "6830e5ca",
   "metadata": {},
   "outputs": [],
   "source": [
    "[x for x in sorted(input(\"Enter three strings seperated by commas : \").split(',')) if print(x,end=' ')]"
   ]
  },
  {
   "cell_type": "markdown",
   "id": "3335a345",
   "metadata": {},
   "source": [
    "### Sort a List "
   ]
  },
  {
   "cell_type": "code",
   "execution_count": null,
   "id": "383f0c1d",
   "metadata": {},
   "outputs": [],
   "source": [
    "l = [eval(x) for x in input(\"Give Number : \").split(',')]\n",
    "l.sort()\n",
    "print(l)"
   ]
  },
  {
   "cell_type": "markdown",
   "id": "3d440b98",
   "metadata": {},
   "source": [
    "### Sum of n natural number? "
   ]
  },
  {
   "cell_type": "code",
   "execution_count": null,
   "id": "69f0f4e1",
   "metadata": {},
   "outputs": [],
   "source": [
    "def sum1(n):\n",
    "    return n*(n+1)//2\n",
    "def sum2(n):\n",
    "    s=0\n",
    "    for i in range(1,n+1):\n",
    "        s=s+i\n",
    "    return s\n",
    "n = int(input(\"Give any Number : \"))\n",
    "print(sum1(n))\n",
    "print(sum2(n))"
   ]
  },
  {
   "cell_type": "markdown",
   "id": "6327cc07",
   "metadata": {},
   "source": [
    "### Euclids Algorithm "
   ]
  },
  {
   "cell_type": "code",
   "execution_count": 1,
   "id": "bb37f713",
   "metadata": {},
   "outputs": [
    {
     "name": "stdout",
     "output_type": "stream",
     "text": [
      "4\n",
      "8\n",
      "LCM is :  8\n",
      "HCF is :  4\n"
     ]
    }
   ],
   "source": [
    "a = int(input())\n",
    "b = int(input())\n",
    "if a>b:\n",
    "    l=a\n",
    "else:\n",
    "    l=b\n",
    "for i in range(l,(a*b)+1,l):\n",
    "    if(i%a==0 and i%b==0):\n",
    "        break\n",
    "lcm = i\n",
    "hcf = (a*b)//lcm\n",
    "print(\"LCM is : \",lcm)\n",
    "print(\"HCF is : \",hcf)"
   ]
  },
  {
   "cell_type": "code",
   "execution_count": 2,
   "id": "100a114f",
   "metadata": {},
   "outputs": [
    {
     "name": "stdout",
     "output_type": "stream",
     "text": [
      "42\n"
     ]
    }
   ],
   "source": [
    "def add(a,b):\n",
    "    for i in range(1,b + 1):\n",
    "        a=a+1\n",
    "    return a\n",
    "a=add(10,32)\n",
    "print(a)"
   ]
  },
  {
   "cell_type": "code",
   "execution_count": 6,
   "id": "e079ee14",
   "metadata": {},
   "outputs": [
    {
     "name": "stdout",
     "output_type": "stream",
     "text": [
      "42\n"
     ]
    }
   ],
   "source": [
    "a=10\n",
    "b=32\n",
    "print(a+b)"
   ]
  },
  {
   "cell_type": "code",
   "execution_count": null,
   "id": "d997dd3a",
   "metadata": {},
   "outputs": [],
   "source": []
  }
 ],
 "metadata": {
  "kernelspec": {
   "display_name": "Python 3 (ipykernel)",
   "language": "python",
   "name": "python3"
  },
  "language_info": {
   "codemirror_mode": {
    "name": "ipython",
    "version": 3
   },
   "file_extension": ".py",
   "mimetype": "text/x-python",
   "name": "python",
   "nbconvert_exporter": "python",
   "pygments_lexer": "ipython3",
   "version": "3.9.13"
  }
 },
 "nbformat": 4,
 "nbformat_minor": 5
}
