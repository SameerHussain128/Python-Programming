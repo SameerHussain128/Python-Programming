{
 "cells": [
  {
   "cell_type": "markdown",
   "id": "553bc3eb",
   "metadata": {},
   "source": [
    "### A function is a block of code which runs only when it is called.\n",
    " * you can pass data, known as parameters, into a function.\n",
    "A function can return data as a result."
   ]
  },
  {
   "cell_type": "markdown",
   "id": "d593a357",
   "metadata": {},
   "source": [
    "###  Creating a Function\n",
    "* In python a function is defined using the def keyboard:"
   ]
  },
  {
   "cell_type": "code",
   "execution_count": 1,
   "id": "2ac272eb",
   "metadata": {},
   "outputs": [],
   "source": [
    "#Example\n",
    "def my_function():\n",
    "    print(\"Hello from a function\")"
   ]
  },
  {
   "cell_type": "code",
   "execution_count": 2,
   "id": "87af7ef4",
   "metadata": {},
   "outputs": [
    {
     "name": "stdout",
     "output_type": "stream",
     "text": [
      "Hello from a function\n"
     ]
    }
   ],
   "source": [
    "my_function()"
   ]
  },
  {
   "cell_type": "markdown",
   "id": "19330137",
   "metadata": {},
   "source": [
    "### Arguments\n",
    "* Information can be passed into function as Arguments.\n",
    "* Arguments are specified after the function name, inside the parentheses. you can add as many Arguments as you want, just seperate them by comma."
   ]
  },
  {
   "cell_type": "code",
   "execution_count": 3,
   "id": "c4a4aadb",
   "metadata": {},
   "outputs": [],
   "source": [
    "def my_function(fname):\n",
    "    print(fname + \"Sameer\")"
   ]
  },
  {
   "cell_type": "markdown",
   "id": "288ce661",
   "metadata": {},
   "source": [
    "### Parameter or Argument\n",
    "* The term parameter and argument can be used for the same thing:\n",
    "* information that are passed into a function.\n",
    "* From a function perspective:\n",
    "* A parameter is the variable listed inside the parentheses in the function definition.\n",
    "* An argument is the value that is sent to the function when it is called."
   ]
  },
  {
   "cell_type": "code",
   "execution_count": 7,
   "id": "5b81beab",
   "metadata": {},
   "outputs": [
    {
     "ename": "IndentationError",
     "evalue": "expected an indented block (2880405594.py, line 2)",
     "output_type": "error",
     "traceback": [
      "\u001b[1;36m  File \u001b[1;32m\"C:\\Users\\SAMEER\\AppData\\Local\\Temp\\ipykernel_9952\\2880405594.py\"\u001b[1;36m, line \u001b[1;32m2\u001b[0m\n\u001b[1;33m    print(fname+\"\"+lname)\u001b[0m\n\u001b[1;37m    ^\u001b[0m\n\u001b[1;31mIndentationError\u001b[0m\u001b[1;31m:\u001b[0m expected an indented block\n"
     ]
    }
   ],
   "source": [
    "def my_fun(fname,lname):\n",
    "print(fname+\"\"+lname)\n",
    "\n",
    "my_fun(\"emil\",\"mohd\")"
   ]
  },
  {
   "cell_type": "code",
   "execution_count": 9,
   "id": "b217aed2",
   "metadata": {},
   "outputs": [],
   "source": [
    "def my_fun(*kids):\n",
    "    print(\"The youngest kid is\" +kids[2])\n",
    "    \n",
    "    my_fun(\"alex\",\"hales\",\"fin\")"
   ]
  },
  {
   "cell_type": "code",
   "execution_count": 11,
   "id": "796fd561",
   "metadata": {},
   "outputs": [
    {
     "ename": "SyntaxError",
     "evalue": "invalid syntax (1629534526.py, line 1)",
     "output_type": "error",
     "traceback": [
      "\u001b[1;36m  File \u001b[1;32m\"C:\\Users\\SAMEER\\AppData\\Local\\Temp\\ipykernel_9952\\1629534526.py\"\u001b[1;36m, line \u001b[1;32m1\u001b[0m\n\u001b[1;33m    def my_fun('child3','child2','child1'):\u001b[0m\n\u001b[1;37m               ^\u001b[0m\n\u001b[1;31mSyntaxError\u001b[0m\u001b[1;31m:\u001b[0m invalid syntax\n"
     ]
    }
   ],
   "source": [
    "def my_fun('child3','child2','child1'):\n",
    "    print(\"The youngest child is\" + child3)\n",
    "    \n",
    "my_fun(child1=\"alex\",child2=\"hales\",child3=\"fin\")"
   ]
  },
  {
   "cell_type": "code",
   "execution_count": 13,
   "id": "6c8fa1d4",
   "metadata": {},
   "outputs": [
    {
     "name": "stdout",
     "output_type": "stream",
     "text": [
      "Hello Next\n"
     ]
    }
   ],
   "source": [
    "def naam(name):\n",
    "    \"\"\"\n",
    "    Naam likho ga\n",
    "    \"\"\"\n",
    "    print(\"Hello\"+name)\n",
    "naam(\" Next\")"
   ]
  },
  {
   "cell_type": "code",
   "execution_count": 14,
   "id": "4e1c0d92",
   "metadata": {},
   "outputs": [
    {
     "name": "stdout",
     "output_type": "stream",
     "text": [
      "\n",
      "    Naam likho ga\n",
      "    \n"
     ]
    }
   ],
   "source": [
    "print(naam.__doc__)"
   ]
  },
  {
   "cell_type": "code",
   "execution_count": 15,
   "id": "72221934",
   "metadata": {},
   "outputs": [],
   "source": [
    "def sum_do(lst):\n",
    "    \"\"\"\n",
    "    tum muje list do mai tumhe sum duga\n",
    "    \"\"\"\n",
    "    sum = 0\n",
    "    for num in lst:\n",
    "        sum = sum + num\n",
    "    return sum"
   ]
  },
  {
   "cell_type": "code",
   "execution_count": 17,
   "id": "864b12ac",
   "metadata": {},
   "outputs": [
    {
     "name": "stdout",
     "output_type": "stream",
     "text": [
      "15\n"
     ]
    }
   ],
   "source": [
    "s = sum_do([1,2,3,4,5])\n",
    "print(s)"
   ]
  },
  {
   "cell_type": "code",
   "execution_count": 19,
   "id": "fb06cb58",
   "metadata": {},
   "outputs": [
    {
     "name": "stdout",
     "output_type": "stream",
     "text": [
      "Local variable hoo\n",
      "Global variable hoo\n",
      "Global variable hoo\n"
     ]
    },
    {
     "ename": "NameError",
     "evalue": "name 'local_var' is not defined",
     "output_type": "error",
     "traceback": [
      "\u001b[1;31m---------------------------------------------------------------------------\u001b[0m",
      "\u001b[1;31mNameError\u001b[0m                                 Traceback (most recent call last)",
      "\u001b[1;32m~\\AppData\\Local\\Temp\\ipykernel_9952\\2104586479.py\u001b[0m in \u001b[0;36m<module>\u001b[1;34m\u001b[0m\n\u001b[0;32m     15\u001b[0m \u001b[1;33m\u001b[0m\u001b[0m\n\u001b[0;32m     16\u001b[0m \u001b[1;31m# print Local variable\u001b[0m\u001b[1;33m\u001b[0m\u001b[1;33m\u001b[0m\u001b[0m\n\u001b[1;32m---> 17\u001b[1;33m \u001b[0mprint\u001b[0m\u001b[1;33m(\u001b[0m\u001b[0mlocal_var\u001b[0m\u001b[1;33m)\u001b[0m\u001b[1;33m\u001b[0m\u001b[1;33m\u001b[0m\u001b[0m\n\u001b[0m",
      "\u001b[1;31mNameError\u001b[0m: name 'local_var' is not defined"
     ]
    }
   ],
   "source": [
    "global_var = \"Global variable hoo\"\n",
    "def test_life_time():\n",
    "    \"\"\"\n",
    "    test karke batata hu\n",
    "    \"\"\"\n",
    "    local_var = \"Local variable hoo\"\n",
    "    print(local_var)\n",
    "    print(global_var)\n",
    "    \n",
    "#calling function\n",
    "test_life_time()\n",
    "\n",
    "# print Global variable\n",
    "print(global_var)\n",
    "\n",
    "# print Local variable\n",
    "print(local_var)"
   ]
  },
  {
   "cell_type": "code",
   "execution_count": 20,
   "id": "0baa297a",
   "metadata": {},
   "outputs": [
    {
     "name": "stdout",
     "output_type": "stream",
     "text": [
      "100\n"
     ]
    }
   ],
   "source": [
    "num = -100\n",
    "print(abs(num))"
   ]
  },
  {
   "cell_type": "code",
   "execution_count": 21,
   "id": "0ed3bd2f",
   "metadata": {},
   "outputs": [
    {
     "name": "stdout",
     "output_type": "stream",
     "text": [
      "True\n"
     ]
    }
   ],
   "source": [
    "lst = [1,2,3,4]\n",
    "print(all(lst))"
   ]
  },
  {
   "cell_type": "code",
   "execution_count": 22,
   "id": "597db057",
   "metadata": {},
   "outputs": [
    {
     "name": "stdout",
     "output_type": "stream",
     "text": [
      "False\n"
     ]
    }
   ],
   "source": [
    "lst = [0,1,2,3,4]\n",
    "print(all(lst))"
   ]
  },
  {
   "cell_type": "code",
   "execution_count": 23,
   "id": "df85e5a3",
   "metadata": {},
   "outputs": [
    {
     "name": "stdout",
     "output_type": "stream",
     "text": [
      "True\n"
     ]
    }
   ],
   "source": [
    "lst = []  # Empty list always true\n",
    "print(all(lst))"
   ]
  },
  {
   "cell_type": "code",
   "execution_count": 24,
   "id": "e0cb074b",
   "metadata": {},
   "outputs": [
    {
     "name": "stdout",
     "output_type": "stream",
     "text": [
      "['__add__', '__class__', '__class_getitem__', '__contains__', '__delattr__', '__delitem__', '__dir__', '__doc__', '__eq__', '__format__', '__ge__', '__getattribute__', '__getitem__', '__gt__', '__hash__', '__iadd__', '__imul__', '__init__', '__init_subclass__', '__iter__', '__le__', '__len__', '__lt__', '__mul__', '__ne__', '__new__', '__reduce__', '__reduce_ex__', '__repr__', '__reversed__', '__rmul__', '__setattr__', '__setitem__', '__sizeof__', '__str__', '__subclasshook__', 'append', 'clear', 'copy', 'count', 'extend', 'index', 'insert', 'pop', 'remove', 'reverse', 'sort']\n"
     ]
    }
   ],
   "source": [
    "num = [1,2,3]\n",
    "print(dir(num))"
   ]
  },
  {
   "cell_type": "code",
   "execution_count": 25,
   "id": "4bd02179",
   "metadata": {},
   "outputs": [
    {
     "name": "stdout",
     "output_type": "stream",
     "text": [
      "(4, 1)\n"
     ]
    }
   ],
   "source": [
    "print(divmod(9,2))"
   ]
  },
  {
   "cell_type": "code",
   "execution_count": 35,
   "id": "2c3a1919",
   "metadata": {},
   "outputs": [
    {
     "name": "stdout",
     "output_type": "stream",
     "text": [
      "index 0 has value 10\n",
      "index 1 has value 20\n",
      "index 2 has value 30\n",
      "index 3 has value 40\n"
     ]
    }
   ],
   "source": [
    "numbers = [10,20,30,40]\n",
    "for index,num in enumerate(numbers,0):  # enumerate(numbers,start=0)\n",
    "    print(\"index {0} has value {1}\".format(index,num))"
   ]
  },
  {
   "cell_type": "code",
   "execution_count": 36,
   "id": "3b3506e1",
   "metadata": {},
   "outputs": [],
   "source": [
    "# filter function\n",
    "def positive_num(num):\n",
    "    \"give num i will give positive num\"\n",
    "    if num>0:\n",
    "        return num"
   ]
  },
  {
   "cell_type": "code",
   "execution_count": 38,
   "id": "6c342378",
   "metadata": {},
   "outputs": [
    {
     "name": "stdout",
     "output_type": "stream",
     "text": [
      "[-10, -9, -8, -7, -6, -5, -4, -3, -2, -1, 0, 1, 2, 3, 4, 5, 6, 7, 8, 9]\n",
      "[1, 2, 3, 4, 5, 6, 7, 8, 9]\n"
     ]
    }
   ],
   "source": [
    "num_list = range(-10,10)\n",
    "print(list(num_list))\n",
    "positive_num_list = list(filter(positive_num,num_list))\n",
    "print(positive_num_list)"
   ]
  },
  {
   "cell_type": "code",
   "execution_count": 39,
   "id": "bfe249b5",
   "metadata": {},
   "outputs": [
    {
     "name": "stdout",
     "output_type": "stream",
     "text": [
      "True\n",
      "False\n"
     ]
    }
   ],
   "source": [
    "#isinstance function\n",
    "lst = [1,2,3,4,5]\n",
    "print(isinstance(lst,list))\n",
    "\n",
    "t = (1,2,3,4,5)\n",
    "print(isinstance(t,list))"
   ]
  },
  {
   "cell_type": "code",
   "execution_count": 40,
   "id": "90c95062",
   "metadata": {},
   "outputs": [
    {
     "name": "stdout",
     "output_type": "stream",
     "text": [
      "[1, 4, 9, 16, 25]\n"
     ]
    }
   ],
   "source": [
    "# without map function\n",
    "numbers = [1,2,3,4,5]\n",
    "\n",
    "#normal method of computing num^2 for each element in the list\n",
    "squared = []\n",
    "for num in numbers:\n",
    "    squared.append(num**2)  #numbers value squared\n",
    "print(squared)"
   ]
  },
  {
   "cell_type": "code",
   "execution_count": 41,
   "id": "1a5d8a0d",
   "metadata": {},
   "outputs": [
    {
     "name": "stdout",
     "output_type": "stream",
     "text": [
      "[1, 4, 9, 16, 25]\n"
     ]
    }
   ],
   "source": [
    "# with map function\n",
    "\n",
    "def power(num):\n",
    "    return num**2\n",
    "\n",
    "squared = list(map(power,numbers))\n",
    "print(squared)\n"
   ]
  },
  {
   "cell_type": "code",
   "execution_count": 42,
   "id": "a5e3a40f",
   "metadata": {},
   "outputs": [
    {
     "name": "stdout",
     "output_type": "stream",
     "text": [
      "24\n"
     ]
    }
   ],
   "source": [
    "# without reduce\n",
    "product = 1\n",
    "lst = [1,2,3,4]\n",
    "\n",
    "#traditional program without reduce()\n",
    "for num in lst:\n",
    "    product *= num\n",
    "print(product)    "
   ]
  },
  {
   "cell_type": "code",
   "execution_count": 45,
   "id": "4de01ed4",
   "metadata": {},
   "outputs": [
    {
     "name": "stdout",
     "output_type": "stream",
     "text": [
      "24\n"
     ]
    }
   ],
   "source": [
    "# with reduce\n",
    "from functools import reduce\n",
    "def multiply(x,y):\n",
    "    return x*y;\n",
    "product = reduce(multiply,lst)  # rolling comptation\n",
    "print(product)"
   ]
  },
  {
   "cell_type": "code",
   "execution_count": 50,
   "id": "f3aa72cb",
   "metadata": {},
   "outputs": [
    {
     "name": "stdout",
     "output_type": "stream",
     "text": [
      "Hello Roman,wwe world champion\n"
     ]
    }
   ],
   "source": [
    "def greet(name,msg):\n",
    "    \"\"\"\n",
    "    greet to everyone\n",
    "    \"\"\"\n",
    "    print(\"Hello {0},{1}\".format(name,msg))\n",
    "    \n",
    "greet('Roman','wwe world champion')"
   ]
  },
  {
   "cell_type": "code",
   "execution_count": 52,
   "id": "41ef87bf",
   "metadata": {},
   "outputs": [
    {
     "name": "stdout",
     "output_type": "stream",
     "text": [
      "Hello Roman, Good Night\n"
     ]
    }
   ],
   "source": [
    "# define argument\n",
    "def greet(name,msg = \"Good Morning\"):\n",
    "    \"\"\"\n",
    "    greet the person\n",
    "    \"\"\"\n",
    "    print(\"Hello {0}, {1}\".format(name,msg))\n",
    "greet('Roman','Good Night')"
   ]
  },
  {
   "cell_type": "code",
   "execution_count": 54,
   "id": "28261391",
   "metadata": {},
   "outputs": [
    {
     "name": "stdout",
     "output_type": "stream",
     "text": [
      "('dean', 'seth', 'dean', 'seth')\n",
      "Hello, dean)\n",
      "Hello, seth)\n",
      "Hello, dean)\n",
      "Hello, seth)\n"
     ]
    }
   ],
   "source": [
    "# arbitrary no of arguments passed to a function\n",
    "def greet(*names):\n",
    "    \"\"\"\n",
    "    greets everyone in the name of tuple\n",
    "    \"\"\"\n",
    "    print(names)\n",
    "    for name in names:\n",
    "        print(\"Hello, {0})\".format(name))\n",
    "greet(\"dean\",\"seth\",\"dean\",\"seth\")"
   ]
  },
  {
   "cell_type": "code",
   "execution_count": null,
   "id": "cb54a24f",
   "metadata": {},
   "outputs": [],
   "source": []
  }
 ],
 "metadata": {
  "kernelspec": {
   "display_name": "Python 3 (ipykernel)",
   "language": "python",
   "name": "python3"
  },
  "language_info": {
   "codemirror_mode": {
    "name": "ipython",
    "version": 3
   },
   "file_extension": ".py",
   "mimetype": "text/x-python",
   "name": "python",
   "nbconvert_exporter": "python",
   "pygments_lexer": "ipython3",
   "version": "3.9.13"
  }
 },
 "nbformat": 4,
 "nbformat_minor": 5
}
