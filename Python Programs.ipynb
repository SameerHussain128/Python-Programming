{
 "cells": [
  {
   "cell_type": "code",
   "execution_count": 1,
   "id": "f13cf404",
   "metadata": {},
   "outputs": [
    {
     "name": "stdout",
     "output_type": "stream",
     "text": [
      "Enter first number : 100\n",
      "Enter second number : 200\n",
      "300\n"
     ]
    }
   ],
   "source": [
    "a = int(input(\"Enter first number : \"))\n",
    "b = int(input(\"Enter second number : \"))\n",
    "c=a+b\n",
    "print(c)"
   ]
  },
  {
   "cell_type": "code",
   "execution_count": 2,
   "id": "c7e767e7",
   "metadata": {},
   "outputs": [
    {
     "name": "stdout",
     "output_type": "stream",
     "text": [
      "Enter first number : 10\n",
      "Enter second number : 5\n",
      "5\n"
     ]
    }
   ],
   "source": [
    "a = int(input(\"Enter first number : \"))\n",
    "b = int(input(\"Enter second number : \"))\n",
    "c=a-b\n",
    "print(c)"
   ]
  },
  {
   "cell_type": "code",
   "execution_count": 3,
   "id": "f9477108",
   "metadata": {},
   "outputs": [
    {
     "name": "stdout",
     "output_type": "stream",
     "text": [
      "Enter first number : 10\n",
      "Enter second number : 10\n",
      "100\n"
     ]
    }
   ],
   "source": [
    "a = int(input(\"Enter first number : \"))\n",
    "b = int(input(\"Enter second number : \"))\n",
    "c=a*b\n",
    "print(c)"
   ]
  },
  {
   "cell_type": "code",
   "execution_count": 4,
   "id": "93f3f6ee",
   "metadata": {},
   "outputs": [
    {
     "name": "stdout",
     "output_type": "stream",
     "text": [
      "Enter first number : 10\n",
      "Enter second number : 10\n",
      "1.0\n"
     ]
    }
   ],
   "source": [
    "a = int(input(\"Enter first number : \"))\n",
    "b = int(input(\"Enter second number : \"))\n",
    "c=a/b\n",
    "print(c)"
   ]
  },
  {
   "cell_type": "code",
   "execution_count": 5,
   "id": "a47384b8",
   "metadata": {},
   "outputs": [
    {
     "name": "stdout",
     "output_type": "stream",
     "text": [
      "Enter first number : 10\n",
      "Enter second number : 10\n",
      "10000000000\n"
     ]
    }
   ],
   "source": [
    "a = int(input(\"Enter first number : \"))\n",
    "b = int(input(\"Enter second number : \"))\n",
    "c=a**b\n",
    "print(c)"
   ]
  },
  {
   "cell_type": "markdown",
   "id": "0eab9d24",
   "metadata": {},
   "source": [
    "## Odd Even Numbers program\n",
    "\n",
    "* Odd  - 1,3,5,7,9...\n",
    "* Even - 2,4,6,8,10..."
   ]
  },
  {
   "cell_type": "code",
   "execution_count": 10,
   "id": "b8df5818",
   "metadata": {},
   "outputs": [
    {
     "name": "stdout",
     "output_type": "stream",
     "text": [
      "Enter the Number : 200\n",
      "Even Number\n"
     ]
    }
   ],
   "source": [
    "a=int(input(\"Enter the Number : \"))\n",
    "if a%2==0:\n",
    "    print(\"Even Number\")\n",
    "else:\n",
    "    print(\"Odd Number\")\n",
    "    \n",
    "# if given num is divided by 2 and gives reminder 0 then its Even "
   ]
  },
  {
   "cell_type": "markdown",
   "id": "e128c8a8",
   "metadata": {},
   "source": [
    "## Vote  eligibity program "
   ]
  },
  {
   "cell_type": "code",
   "execution_count": 19,
   "id": "150a9b46",
   "metadata": {},
   "outputs": [
    {
     "name": "stdout",
     "output_type": "stream",
     "text": [
      "Enter Age : 15\n",
      "You are Not eligible to vote\n"
     ]
    }
   ],
   "source": [
    "age = int(input(\"Enter Age : \"))\n",
    "if age>=18:\n",
    "    print('You are Eligible to vote')\n",
    "else:\n",
    "    print('You are Not eligible to vote')"
   ]
  },
  {
   "cell_type": "markdown",
   "id": "08ad97c2",
   "metadata": {},
   "source": [
    "## Count Vowels and Consonants "
   ]
  },
  {
   "cell_type": "code",
   "execution_count": 9,
   "id": "bfb72bf1",
   "metadata": {},
   "outputs": [
    {
     "name": "stdout",
     "output_type": "stream",
     "text": [
      "Total number of vowels and consonants are\n",
      "9\n",
      "17\n"
     ]
    }
   ],
   "source": [
    "vcount=0;\n",
    "ccount=0;\n",
    "str = 'This is really simple sentence';\n",
    "str = str.lower()\n",
    "for i in range(0,len(str)):\n",
    "    if str[i]in('a','e','i','o','u'):\n",
    "        vcount=vcount+1;\n",
    "    elif(str[i]>='a' and str[i]<='z'):\n",
    "        ccount=ccount+1;\n",
    "print(\"Total number of vowels and consonants are\");\n",
    "print(vcount)\n",
    "print(ccount)"
   ]
  },
  {
   "cell_type": "code",
   "execution_count": 10,
   "id": "b344c853",
   "metadata": {},
   "outputs": [
    {
     "name": "stdout",
     "output_type": "stream",
     "text": [
      "Total number of vowels and consonants are\n",
      "3\n",
      "8\n"
     ]
    }
   ],
   "source": [
    "vcount=0;\n",
    "ccount=0;\n",
    "str = 'hello python';\n",
    "str = str.lower()\n",
    "for i in range(0,len(str)):\n",
    "    if str[i]in('a','e','i','o','u'):\n",
    "        vcount=vcount+1;\n",
    "    elif(str[i]>='a' and str[i]<='z'):\n",
    "        ccount=ccount+1;\n",
    "print(\"Total number of vowels and consonants are\");\n",
    "print(vcount)\n",
    "print(ccount)"
   ]
  },
  {
   "cell_type": "code",
   "execution_count": null,
   "id": "e26bd827",
   "metadata": {},
   "outputs": [],
   "source": []
  }
 ],
 "metadata": {
  "kernelspec": {
   "display_name": "Python 3 (ipykernel)",
   "language": "python",
   "name": "python3"
  },
  "language_info": {
   "codemirror_mode": {
    "name": "ipython",
    "version": 3
   },
   "file_extension": ".py",
   "mimetype": "text/x-python",
   "name": "python",
   "nbconvert_exporter": "python",
   "pygments_lexer": "ipython3",
   "version": "3.9.13"
  }
 },
 "nbformat": 4,
 "nbformat_minor": 5
}
