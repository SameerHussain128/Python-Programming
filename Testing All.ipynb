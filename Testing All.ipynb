{
 "cells": [
  {
   "cell_type": "code",
   "execution_count": null,
   "id": "a3a13fcc",
   "metadata": {},
   "outputs": [],
   "source": [
    "from turtle import *\n",
    "import turtle"
   ]
  },
  {
   "cell_type": "code",
   "execution_count": null,
   "id": "ebce31c8",
   "metadata": {},
   "outputs": [],
   "source": [
    "turtle.title(\"rainbow spiral\")\n",
    "\n",
    "speed(15)\n",
    "\n",
    "bgcolor(\"black\") r.g,b=255,0,0\n",
    "\n",
    "for i in range (255*2): colormode (255)\n",
    "\n",
    "if i<255//3: g+=3\n",
    "\n",
    "elif i<255*2//3: r =3\n",
    "\n",
    "elif i<255: b+=3\n",
    "\n",
    "elif i<255*4//3: g-=3\n",
    "\n",
    "elif i<255*5//3:\n",
    "\n",
    "r+ 3\n",
    "\n",
    "else: b-=3\n",
    "\n",
    "fd (50+i)\n",
    "\n",
    "rt (91)\n",
    "\n",
    "pencolor(r,g,b)\n",
    "\n",
    "done()"
   ]
  },
  {
   "cell_type": "code",
   "execution_count": null,
   "id": "a1eedb79",
   "metadata": {},
   "outputs": [],
   "source": [
    "def hello(msg):\n",
    "    print(\"hi {}. good morning\".format(msg))\n",
    "    hello(\"sam\")"
   ]
  },
  {
   "cell_type": "code",
   "execution_count": null,
   "id": "f49b8e38",
   "metadata": {},
   "outputs": [],
   "source": [
    "def hello(msg):\n",
    "    while(True):\n",
    "        print(\"hi {}, good morning\".format(msg))\n",
    "\n",
    "        \n",
    "hello(\"sam\")"
   ]
  },
  {
   "cell_type": "code",
   "execution_count": 1,
   "id": "045fa2cc",
   "metadata": {},
   "outputs": [
    {
     "name": "stdout",
     "output_type": "stream",
     "text": [
      "hi sam, good morning\n",
      "hi sam, good morning\n",
      "hi sam, good morning\n",
      "hi sam, good morning\n",
      "hi sam, good morning\n"
     ]
    }
   ],
   "source": [
    "def hello(msg):\n",
    "    i=1\n",
    "    while(True):\n",
    "        if(i<=5):\n",
    "            print(\"hi {}, good morning\".format(msg))   # print 5 times\n",
    "        else:\n",
    "            break\n",
    "        i=i+1\n",
    "                   \n",
    "hello(\"sam\")"
   ]
  },
  {
   "cell_type": "code",
   "execution_count": 2,
   "id": "56de5cdb",
   "metadata": {},
   "outputs": [
    {
     "name": "stdout",
     "output_type": "stream",
     "text": [
      "hi sam, Good morning\n"
     ]
    }
   ],
   "source": [
    "# Recursion - Function call itself\n",
    "\n",
    "def hello(msg):\n",
    "    print(\"hi {}, Good morning\".format(msg))\n",
    "\n",
    "hello(\"sam\")"
   ]
  },
  {
   "cell_type": "code",
   "execution_count": null,
   "id": "a32b7dad",
   "metadata": {},
   "outputs": [],
   "source": [
    "def hello(msg):\n",
    "    i=1\n",
    "    while(True):\n",
    "        if(i!=5):\n",
    "            print(\"hi {}, good morning\".format(msg))   # print 5 times\n",
    "        else:\n",
    "            break\n",
    "        i=i+1\n",
    "                   \n",
    "hello(\"sam\")"
   ]
  },
  {
   "cell_type": "code",
   "execution_count": 5,
   "id": "d63cd6a9",
   "metadata": {},
   "outputs": [
    {
     "ename": "SyntaxError",
     "evalue": "'break' outside loop (974940990.py, line 6)",
     "output_type": "error",
     "traceback": [
      "\u001b[1;36m  File \u001b[1;32m\"C:\\Users\\SAMEER\\AppData\\Local\\Temp\\ipykernel_33568\\974940990.py\"\u001b[1;36m, line \u001b[1;32m6\u001b[0m\n\u001b[1;33m    break\u001b[0m\n\u001b[1;37m    ^\u001b[0m\n\u001b[1;31mSyntaxError\u001b[0m\u001b[1;31m:\u001b[0m 'break' outside loop\n"
     ]
    }
   ],
   "source": [
    "def hello(msg,n):\n",
    "    if(n>=1):\n",
    "        print(\"hi {}, good morning\".format(msg))\n",
    "        hello(\"sam\", n-1)\n",
    "    else:\n",
    "        break\n",
    "                   \n",
    "hello(\"sam\",5)"
   ]
  },
  {
   "cell_type": "code",
   "execution_count": 6,
   "id": "21a2e4d9",
   "metadata": {},
   "outputs": [
    {
     "name": "stdout",
     "output_type": "stream",
     "text": [
      "hi sam, good morning\n",
      "hi sam, good morning\n",
      "hi sam, good morning\n",
      "hi sam, good morning\n",
      "hi sam, good morning\n",
      "Recursion process is completed\n"
     ]
    },
    {
     "ename": "SystemExit",
     "evalue": "",
     "output_type": "error",
     "traceback": [
      "An exception has occurred, use %tb to see the full traceback.\n",
      "\u001b[1;31mSystemExit\u001b[0m\n"
     ]
    },
    {
     "name": "stderr",
     "output_type": "stream",
     "text": [
      "C:\\Users\\SAMEER\\anaconda3\\lib\\site-packages\\IPython\\core\\interactiveshell.py:3465: UserWarning: To exit: use 'exit', 'quit', or Ctrl-D.\n",
      "  warn(\"To exit: use 'exit', 'quit', or Ctrl-D.\", stacklevel=1)\n"
     ]
    }
   ],
   "source": [
    "import sys\n",
    "def hello(msg,n):\n",
    "    if(n>=1):\n",
    "        print(\"hi {}, good morning\".format(msg))\n",
    "        hello(\"sam\", n-1)\n",
    "    else:\n",
    "        print(\"Recursion process is completed\")\n",
    "        sys.exit()\n",
    "                   \n",
    "hello(\"sam\",5)"
   ]
  },
  {
   "cell_type": "code",
   "execution_count": 7,
   "id": "7da8197f",
   "metadata": {},
   "outputs": [
    {
     "name": "stdout",
     "output_type": "stream",
     "text": [
      "hi sam, good morning\n",
      "hi sam, good morning\n",
      "hi sam, good morning\n",
      "hi sam, good morning\n",
      "hi sam, good morning\n",
      "Recursion process is completed\n"
     ]
    }
   ],
   "source": [
    "def hello(msg,n):\n",
    "    if(n>=1):\n",
    "        print(\"hi {}, good morning\".format(msg))\n",
    "        hello(\"sam\", n-1)\n",
    "    else:\n",
    "        print(\"Recursion process is completed\")\n",
    "                   \n",
    "hello(\"sam\",5)"
   ]
  },
  {
   "cell_type": "code",
   "execution_count": 8,
   "id": "6d635f1e",
   "metadata": {},
   "outputs": [],
   "source": [
    "def sam(m,n):\n",
    "    if(n==0): \n",
    "        return m\n",
    "    else:\n",
    "        m=m+1\n",
    "        n=n-1\n",
    "        sam(m,n)"
   ]
  },
  {
   "cell_type": "code",
   "execution_count": 14,
   "id": "c19682fa",
   "metadata": {},
   "outputs": [],
   "source": [
    "def sam():\n",
    "    n == 8\n",
    "    if(n==0): \n",
    "        print('hi')\n",
    "    else:\n",
    "        print('nohi')"
   ]
  },
  {
   "cell_type": "code",
   "execution_count": 17,
   "id": "bd62f0b5",
   "metadata": {},
   "outputs": [
    {
     "ename": "ImportError",
     "evalue": "cannot import name 'flask' from 'flask' (C:\\Users\\SAMEER\\anaconda3\\lib\\site-packages\\flask\\__init__.py)",
     "output_type": "error",
     "traceback": [
      "\u001b[1;31m---------------------------------------------------------------------------\u001b[0m",
      "\u001b[1;31mImportError\u001b[0m                               Traceback (most recent call last)",
      "\u001b[1;32m~\\AppData\\Local\\Temp\\ipykernel_33568\\3307021975.py\u001b[0m in \u001b[0;36m<module>\u001b[1;34m\u001b[0m\n\u001b[1;32m----> 1\u001b[1;33m \u001b[1;32mfrom\u001b[0m \u001b[0mflask\u001b[0m \u001b[1;32mimport\u001b[0m \u001b[0mflask\u001b[0m\u001b[1;33m\u001b[0m\u001b[1;33m\u001b[0m\u001b[0m\n\u001b[0m\u001b[0;32m      2\u001b[0m \u001b[0mapp\u001b[0m \u001b[1;33m=\u001b[0m \u001b[0mFlask\u001b[0m\u001b[1;33m(\u001b[0m\u001b[0m__name__\u001b[0m\u001b[1;33m)\u001b[0m\u001b[1;33m\u001b[0m\u001b[1;33m\u001b[0m\u001b[0m\n\u001b[0;32m      3\u001b[0m \u001b[1;33m\u001b[0m\u001b[0m\n\u001b[0;32m      4\u001b[0m \u001b[1;33m@\u001b[0m\u001b[0mapp\u001b[0m\u001b[1;33m.\u001b[0m\u001b[0mroute\u001b[0m\u001b[1;33m(\u001b[0m\u001b[1;34m\"/\"\u001b[0m\u001b[1;33m)\u001b[0m\u001b[1;33m\u001b[0m\u001b[1;33m\u001b[0m\u001b[0m\n\u001b[0;32m      5\u001b[0m \u001b[1;32mdef\u001b[0m \u001b[0mhello_world\u001b[0m\u001b[1;33m(\u001b[0m\u001b[1;33m)\u001b[0m\u001b[1;33m:\u001b[0m\u001b[1;33m\u001b[0m\u001b[1;33m\u001b[0m\u001b[0m\n",
      "\u001b[1;31mImportError\u001b[0m: cannot import name 'flask' from 'flask' (C:\\Users\\SAMEER\\anaconda3\\lib\\site-packages\\flask\\__init__.py)"
     ]
    }
   ],
   "source": [
    "from flask import flask\n",
    "app = Flask(__name__)\n",
    "\n",
    "@app.route(\"/\")\n",
    "def hello_world():\n",
    "    return \"<p>Hello, World!</p>\"\n",
    "\n",
    "app.run(debug=True)"
   ]
  },
  {
   "cell_type": "code",
   "execution_count": 16,
   "id": "416805ad",
   "metadata": {},
   "outputs": [
    {
     "name": "stdout",
     "output_type": "stream",
     "text": [
      "Requirement already satisfied: flask in c:\\users\\sameer\\anaconda3\\lib\\site-packages (1.1.2)\n",
      "Requirement already satisfied: itsdangerous>=0.24 in c:\\users\\sameer\\anaconda3\\lib\\site-packages (from flask) (2.0.1)\n",
      "Requirement already satisfied: Jinja2>=2.10.1 in c:\\users\\sameer\\anaconda3\\lib\\site-packages (from flask) (2.11.3)\n",
      "Requirement already satisfied: click>=5.1 in c:\\users\\sameer\\anaconda3\\lib\\site-packages (from flask) (8.0.4)\n",
      "Requirement already satisfied: Werkzeug>=0.15 in c:\\users\\sameer\\anaconda3\\lib\\site-packages (from flask) (2.0.3)\n",
      "Requirement already satisfied: colorama in c:\\users\\sameer\\anaconda3\\lib\\site-packages (from click>=5.1->flask) (0.4.6)\n",
      "Requirement already satisfied: MarkupSafe>=0.23 in c:\\users\\sameer\\anaconda3\\lib\\site-packages (from Jinja2>=2.10.1->flask) (2.0.1)\n",
      "Note: you may need to restart the kernel to use updated packages.\n"
     ]
    },
    {
     "name": "stderr",
     "output_type": "stream",
     "text": [
      "WARNING: Ignoring invalid distribution -atplotlib (c:\\users\\sameer\\anaconda3\\lib\\site-packages)\n",
      "WARNING: Ignoring invalid distribution -atplotlib (c:\\users\\sameer\\anaconda3\\lib\\site-packages)\n",
      "WARNING: Ignoring invalid distribution -atplotlib (c:\\users\\sameer\\anaconda3\\lib\\site-packages)\n",
      "WARNING: Ignoring invalid distribution -atplotlib (c:\\users\\sameer\\anaconda3\\lib\\site-packages)\n",
      "WARNING: Ignoring invalid distribution -atplotlib (c:\\users\\sameer\\anaconda3\\lib\\site-packages)\n",
      "WARNING: Ignoring invalid distribution -atplotlib (c:\\users\\sameer\\anaconda3\\lib\\site-packages)\n"
     ]
    }
   ],
   "source": [
    "pip install flask"
   ]
  },
  {
   "cell_type": "code",
   "execution_count": null,
   "id": "a4281ef5",
   "metadata": {},
   "outputs": [],
   "source": []
  }
 ],
 "metadata": {
  "kernelspec": {
   "display_name": "Python 3 (ipykernel)",
   "language": "python",
   "name": "python3"
  },
  "language_info": {
   "codemirror_mode": {
    "name": "ipython",
    "version": 3
   },
   "file_extension": ".py",
   "mimetype": "text/x-python",
   "name": "python",
   "nbconvert_exporter": "python",
   "pygments_lexer": "ipython3",
   "version": "3.9.13"
  }
 },
 "nbformat": 4,
 "nbformat_minor": 5
}
