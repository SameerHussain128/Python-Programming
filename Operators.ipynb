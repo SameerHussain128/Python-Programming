{
 "cells": [
  {
   "cell_type": "markdown",
   "id": "1bcb7572",
   "metadata": {},
   "source": [
    "## Arithmetic Operators "
   ]
  },
  {
   "cell_type": "code",
   "execution_count": 1,
   "id": "5468333e",
   "metadata": {},
   "outputs": [],
   "source": [
    "a = 10\n",
    "b = 5"
   ]
  },
  {
   "cell_type": "code",
   "execution_count": 2,
   "id": "961b6790",
   "metadata": {},
   "outputs": [
    {
     "name": "stdout",
     "output_type": "stream",
     "text": [
      "15\n"
     ]
    }
   ],
   "source": [
    "print(a+b)"
   ]
  },
  {
   "cell_type": "code",
   "execution_count": 3,
   "id": "d5f1edc8",
   "metadata": {},
   "outputs": [
    {
     "name": "stdout",
     "output_type": "stream",
     "text": [
      "5\n"
     ]
    }
   ],
   "source": [
    "print(a-b)"
   ]
  },
  {
   "cell_type": "code",
   "execution_count": 4,
   "id": "67968092",
   "metadata": {},
   "outputs": [
    {
     "name": "stdout",
     "output_type": "stream",
     "text": [
      "50\n"
     ]
    }
   ],
   "source": [
    "print(a*b)"
   ]
  },
  {
   "cell_type": "code",
   "execution_count": 5,
   "id": "d8d1c8b4",
   "metadata": {},
   "outputs": [
    {
     "name": "stdout",
     "output_type": "stream",
     "text": [
      "2.0\n"
     ]
    }
   ],
   "source": [
    "print(a/b)"
   ]
  },
  {
   "cell_type": "code",
   "execution_count": 6,
   "id": "47b4e468",
   "metadata": {},
   "outputs": [
    {
     "name": "stdout",
     "output_type": "stream",
     "text": [
      "15\n"
     ]
    }
   ],
   "source": [
    "print(a++b)"
   ]
  },
  {
   "cell_type": "code",
   "execution_count": 7,
   "id": "0baa84a0",
   "metadata": {},
   "outputs": [
    {
     "name": "stdout",
     "output_type": "stream",
     "text": [
      "100000\n"
     ]
    }
   ],
   "source": [
    "print(a**b)"
   ]
  },
  {
   "cell_type": "code",
   "execution_count": 8,
   "id": "c1bf1f41",
   "metadata": {},
   "outputs": [
    {
     "name": "stdout",
     "output_type": "stream",
     "text": [
      "2\n"
     ]
    }
   ],
   "source": [
    "print(a//b)"
   ]
  },
  {
   "cell_type": "markdown",
   "id": "6b7977b2",
   "metadata": {},
   "source": [
    "## Assignment Operator"
   ]
  },
  {
   "cell_type": "code",
   "execution_count": 35,
   "id": "0684bdce",
   "metadata": {},
   "outputs": [
    {
     "name": "stdout",
     "output_type": "stream",
     "text": [
      "53\n"
     ]
    }
   ],
   "source": [
    "a = 53   # 53 (value) assignint in a (variable)\n",
    "print(a)"
   ]
  },
  {
   "cell_type": "markdown",
   "id": "479b9991",
   "metadata": {},
   "source": [
    "## Relational Operator"
   ]
  },
  {
   "cell_type": "code",
   "execution_count": 9,
   "id": "43b28840",
   "metadata": {},
   "outputs": [
    {
     "name": "stdout",
     "output_type": "stream",
     "text": [
      "False\n"
     ]
    }
   ],
   "source": [
    "print(a<b)"
   ]
  },
  {
   "cell_type": "code",
   "execution_count": 10,
   "id": "35d90802",
   "metadata": {},
   "outputs": [
    {
     "name": "stdout",
     "output_type": "stream",
     "text": [
      "True\n"
     ]
    }
   ],
   "source": [
    "print(a>b)"
   ]
  },
  {
   "cell_type": "code",
   "execution_count": 11,
   "id": "cbdbca35",
   "metadata": {},
   "outputs": [
    {
     "name": "stdout",
     "output_type": "stream",
     "text": [
      "False\n"
     ]
    }
   ],
   "source": [
    "print(a<=b)"
   ]
  },
  {
   "cell_type": "code",
   "execution_count": 13,
   "id": "1c8476b9",
   "metadata": {},
   "outputs": [
    {
     "name": "stdout",
     "output_type": "stream",
     "text": [
      "True\n"
     ]
    }
   ],
   "source": [
    "print(a>=b)"
   ]
  },
  {
   "cell_type": "code",
   "execution_count": 15,
   "id": "d8fd85f3",
   "metadata": {},
   "outputs": [
    {
     "name": "stdout",
     "output_type": "stream",
     "text": [
      "False\n"
     ]
    }
   ],
   "source": [
    "print(a==b)"
   ]
  },
  {
   "cell_type": "code",
   "execution_count": 16,
   "id": "20240e72",
   "metadata": {},
   "outputs": [
    {
     "name": "stdout",
     "output_type": "stream",
     "text": [
      "True\n"
     ]
    }
   ],
   "source": [
    "print(a!=b)"
   ]
  },
  {
   "cell_type": "markdown",
   "id": "17e44b54",
   "metadata": {},
   "source": [
    "## Logical Operator "
   ]
  },
  {
   "cell_type": "code",
   "execution_count": 21,
   "id": "7ec7c92e",
   "metadata": {},
   "outputs": [
    {
     "name": "stdout",
     "output_type": "stream",
     "text": [
      "False\n"
     ]
    }
   ],
   "source": [
    "print(a<b and a>b)  # if both conditions are true (satisfy) then it prints True else False"
   ]
  },
  {
   "cell_type": "code",
   "execution_count": 20,
   "id": "d4724d6b",
   "metadata": {},
   "outputs": [
    {
     "name": "stdout",
     "output_type": "stream",
     "text": [
      "True\n"
     ]
    }
   ],
   "source": [
    "print(a>b or a<b)   # if any of conditions is true (satisfy) then it prints True"
   ]
  },
  {
   "cell_type": "code",
   "execution_count": 22,
   "id": "d5b8a911",
   "metadata": {},
   "outputs": [
    {
     "name": "stdout",
     "output_type": "stream",
     "text": [
      "True\n"
     ]
    }
   ],
   "source": [
    "print(not(a<b and a>b)) # it is opposite of and"
   ]
  },
  {
   "cell_type": "markdown",
   "id": "183a3016",
   "metadata": {},
   "source": [
    "## Bitwise operators \n",
    "\n",
    "* Applicable only on int and bool values\n",
    "* & (and), | (or), ^ (xor), ~ (complement), << (swift left), >> (swift right)"
   ]
  },
  {
   "cell_type": "code",
   "execution_count": 25,
   "id": "09acc400",
   "metadata": {},
   "outputs": [
    {
     "name": "stdout",
     "output_type": "stream",
     "text": [
      "4\n"
     ]
    }
   ],
   "source": [
    "print(5 & 6)  # if both 1 then 1 else 0"
   ]
  },
  {
   "cell_type": "code",
   "execution_count": 26,
   "id": "03a6b098",
   "metadata": {},
   "outputs": [
    {
     "name": "stdout",
     "output_type": "stream",
     "text": [
      "7\n"
     ]
    }
   ],
   "source": [
    "print(5 | 6)  # if any 1 then 1 else 0"
   ]
  },
  {
   "cell_type": "code",
   "execution_count": 27,
   "id": "5be3bd8e",
   "metadata": {},
   "outputs": [
    {
     "name": "stdout",
     "output_type": "stream",
     "text": [
      "3\n"
     ]
    }
   ],
   "source": [
    "print(5 ^ 6)  # if both same then output 0 else 1"
   ]
  },
  {
   "cell_type": "code",
   "execution_count": 28,
   "id": "20417c24",
   "metadata": {},
   "outputs": [
    {
     "name": "stdout",
     "output_type": "stream",
     "text": [
      "-6\n"
     ]
    }
   ],
   "source": [
    "print(~ 5)  # if any 1 then 1 else 0"
   ]
  },
  {
   "cell_type": "code",
   "execution_count": 29,
   "id": "976e15de",
   "metadata": {},
   "outputs": [
    {
     "name": "stdout",
     "output_type": "stream",
     "text": [
      "-8\n"
     ]
    }
   ],
   "source": [
    "print(~ 7)"
   ]
  },
  {
   "cell_type": "code",
   "execution_count": 30,
   "id": "ac9b8d74",
   "metadata": {},
   "outputs": [
    {
     "name": "stdout",
     "output_type": "stream",
     "text": [
      "7\n"
     ]
    }
   ],
   "source": [
    "print(15>>1)"
   ]
  },
  {
   "cell_type": "code",
   "execution_count": 31,
   "id": "a7b37539",
   "metadata": {},
   "outputs": [
    {
     "name": "stdout",
     "output_type": "stream",
     "text": [
      "30\n"
     ]
    }
   ],
   "source": [
    "print(15<<1)"
   ]
  },
  {
   "cell_type": "markdown",
   "id": "91515a57",
   "metadata": {},
   "source": [
    "## Identity Operator"
   ]
  },
  {
   "cell_type": "code",
   "execution_count": 36,
   "id": "362f6f1b",
   "metadata": {},
   "outputs": [
    {
     "name": "stdout",
     "output_type": "stream",
     "text": [
      "True\n"
     ]
    }
   ],
   "source": [
    "a = 5      # Both has same Identity\n",
    "b = 5\n",
    "\n",
    "print(a is b)"
   ]
  },
  {
   "cell_type": "code",
   "execution_count": 37,
   "id": "e1255bd6",
   "metadata": {},
   "outputs": [
    {
     "name": "stdout",
     "output_type": "stream",
     "text": [
      "id of a :  1693098273200\n",
      "id of b :  1693098273200\n"
     ]
    }
   ],
   "source": [
    "print('id of a : ', id(a))\n",
    "print('id of b : ', id(b))"
   ]
  },
  {
   "cell_type": "code",
   "execution_count": 40,
   "id": "3f726c81",
   "metadata": {},
   "outputs": [
    {
     "name": "stdout",
     "output_type": "stream",
     "text": [
      "False\n",
      "id of a :  1693098273200\n",
      "id of b :  1693098273232\n"
     ]
    }
   ],
   "source": [
    "a = 5 \n",
    "b = 6\n",
    "print(a is b)\n",
    "\n",
    "print('id of a : ', id(a))\n",
    "print('id of b : ', id(b))"
   ]
  },
  {
   "cell_type": "markdown",
   "id": "c4cffc73",
   "metadata": {},
   "source": [
    "## Membership Operator\n",
    " "
   ]
  },
  {
   "cell_type": "code",
   "execution_count": 43,
   "id": "fa668f12",
   "metadata": {},
   "outputs": [
    {
     "name": "stdout",
     "output_type": "stream",
     "text": [
      "True\n"
     ]
    }
   ],
   "source": [
    "i = \"India is great\"\n",
    "print('great' in i)"
   ]
  },
  {
   "cell_type": "code",
   "execution_count": 44,
   "id": "105ec67b",
   "metadata": {},
   "outputs": [
    {
     "name": "stdout",
     "output_type": "stream",
     "text": [
      "False\n"
     ]
    }
   ],
   "source": [
    "i = \"India is great\"\n",
    "print('hello' in i)"
   ]
  },
  {
   "cell_type": "code",
   "execution_count": 45,
   "id": "ae27a9b9",
   "metadata": {},
   "outputs": [
    {
     "name": "stdout",
     "output_type": "stream",
     "text": [
      "False\n"
     ]
    }
   ],
   "source": [
    "i = \"India is great\"\n",
    "print('great' not in i)"
   ]
  },
  {
   "cell_type": "code",
   "execution_count": null,
   "id": "d2ee90ce",
   "metadata": {},
   "outputs": [],
   "source": []
  }
 ],
 "metadata": {
  "kernelspec": {
   "display_name": "Python 3 (ipykernel)",
   "language": "python",
   "name": "python3"
  },
  "language_info": {
   "codemirror_mode": {
    "name": "ipython",
    "version": 3
   },
   "file_extension": ".py",
   "mimetype": "text/x-python",
   "name": "python",
   "nbconvert_exporter": "python",
   "pygments_lexer": "ipython3",
   "version": "3.9.13"
  }
 },
 "nbformat": 4,
 "nbformat_minor": 5
}
