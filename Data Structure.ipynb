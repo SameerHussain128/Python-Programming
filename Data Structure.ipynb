{
 "cells": [
  {
   "cell_type": "markdown",
   "id": "e2cead6a",
   "metadata": {},
   "source": [
    "## LIST\n",
    "\n",
    "* List is mutable can modified and can changed int to str, str to int , mixed datatypes\n",
    "* list allow dubligate values\n",
    "* list is represented by []"
   ]
  },
  {
   "cell_type": "code",
   "execution_count": 1,
   "id": "ade8765e",
   "metadata": {},
   "outputs": [
    {
     "name": "stdout",
     "output_type": "stream",
     "text": [
      "[1, 2, 3, 4, 5]\n"
     ]
    }
   ],
   "source": [
    "my_list = [1,2,3,4,5]\n",
    "print(my_list)"
   ]
  },
  {
   "cell_type": "code",
   "execution_count": 2,
   "id": "6d775c7c",
   "metadata": {},
   "outputs": [
    {
     "name": "stdout",
     "output_type": "stream",
     "text": [
      "<class 'list'>\n"
     ]
    }
   ],
   "source": [
    "print(type(my_list))"
   ]
  },
  {
   "cell_type": "code",
   "execution_count": 11,
   "id": "1adeff76",
   "metadata": {},
   "outputs": [
    {
     "name": "stdout",
     "output_type": "stream",
     "text": [
      "[1, 2, 8, 4, 5]\n"
     ]
    }
   ],
   "source": [
    "my_list = [1,2,3,4,5]\n",
    "\n",
    "new_list = [8 if x == 3\n",
    "            else x\n",
    "            for x in my_list]\n",
    "print(new_list)"
   ]
  },
  {
   "cell_type": "code",
   "execution_count": 14,
   "id": "7ca145b1",
   "metadata": {},
   "outputs": [
    {
     "name": "stdout",
     "output_type": "stream",
     "text": [
      "[1, 2, 3, 4, 5]\n"
     ]
    }
   ],
   "source": [
    "[7 if x == 5\n",
    "else x\n",
    "for x in my_list]\n",
    "print(my_list)"
   ]
  },
  {
   "cell_type": "code",
   "execution_count": 16,
   "id": "9c27d3ee",
   "metadata": {},
   "outputs": [
    {
     "name": "stdout",
     "output_type": "stream",
     "text": [
      "[1, 2, 8, 4, 'hii']\n"
     ]
    }
   ],
   "source": [
    "new_list = [1,2,8,4,5]\n",
    "\n",
    "new1_list = ['hii' if x == 5\n",
    "            else x\n",
    "            for x in new_list]\n",
    "print(new1_list)"
   ]
  },
  {
   "cell_type": "code",
   "execution_count": 1,
   "id": "2cc7de79",
   "metadata": {},
   "outputs": [
    {
     "name": "stdout",
     "output_type": "stream",
     "text": [
      "[0, 2, 3, 8, 43, 53]\n"
     ]
    }
   ],
   "source": [
    "list1 = [2,43,53,3,8,0]\n",
    "# Sort\n",
    "list1.sort()\n",
    "print(list1)"
   ]
  },
  {
   "cell_type": "code",
   "execution_count": 2,
   "id": "4bf0d855",
   "metadata": {},
   "outputs": [
    {
     "name": "stdout",
     "output_type": "stream",
     "text": [
      "[53, 43, 8, 3, 2, 0]\n"
     ]
    }
   ],
   "source": [
    "list1 = [2,43,53,3,8,0]\n",
    "# Sort\n",
    "list1.sort(reverse=True)\n",
    "print(list1)"
   ]
  },
  {
   "cell_type": "code",
   "execution_count": 4,
   "id": "66b5d9d9",
   "metadata": {},
   "outputs": [
    {
     "name": "stdout",
     "output_type": "stream",
     "text": [
      "[5, 20, 0, 82, 3, 53, 1, 2]\n"
     ]
    }
   ],
   "source": [
    "list2 = [2,1,53,3,82,0,20,5]\n",
    "# reverse                       # last to first\n",
    "list2.reverse()\n",
    "print(list2)"
   ]
  },
  {
   "cell_type": "code",
   "execution_count": 9,
   "id": "c2980fc1",
   "metadata": {},
   "outputs": [
    {
     "name": "stdout",
     "output_type": "stream",
     "text": [
      "[2, 43, 53, 3.0, [53, 'sam', 200.5]]\n"
     ]
    }
   ],
   "source": [
    "# Nested List (list inside list)\n",
    "list1 = [2,43,53,3.0,[53,'sam',200.5]]\n",
    "\n",
    "print(list1)"
   ]
  },
  {
   "cell_type": "code",
   "execution_count": 11,
   "id": "4d232647",
   "metadata": {},
   "outputs": [
    {
     "name": "stdout",
     "output_type": "stream",
     "text": [
      "['hussain', 'hashmi']\n",
      "<class 'list'>\n"
     ]
    }
   ],
   "source": [
    "# List Comprehension\n",
    "list = ['hussain','sameer','hashmi','mohd']\n",
    "a = [word for word in list if word.startswith(\"h\")]\n",
    "print(a)\n",
    "#print(type(a))"
   ]
  },
  {
   "cell_type": "code",
   "execution_count": 16,
   "id": "5228a992",
   "metadata": {},
   "outputs": [
    {
     "name": "stdout",
     "output_type": "stream",
     "text": [
      "mohd\n",
      "sameer\n",
      "hussain\n"
     ]
    }
   ],
   "source": [
    "# List Unpacking\n",
    "list = ['mohd','sameer','hussain']\n",
    "m1,m2,m3 = list \n",
    "print(m1)\n",
    "print(m2)\n",
    "print(m3)"
   ]
  },
  {
   "cell_type": "markdown",
   "id": "1d678f76",
   "metadata": {},
   "source": [
    "## Tuple\n",
    "\n",
    "* Tuple is immutable, elements cannot be changed, cannot modify the values\n",
    "* Tuple allow dubligate values\n",
    "* Tuple is represented by ()"
   ]
  },
  {
   "cell_type": "code",
   "execution_count": 24,
   "id": "cef1f876",
   "metadata": {},
   "outputs": [
    {
     "name": "stdout",
     "output_type": "stream",
     "text": [
      "(1, 2, 3, 4, 5)\n"
     ]
    }
   ],
   "source": [
    "my_tuple = (1,2,3,4,5)\n",
    "print(my_tuple)"
   ]
  },
  {
   "cell_type": "code",
   "execution_count": 38,
   "id": "96410a2d",
   "metadata": {},
   "outputs": [
    {
     "name": "stdout",
     "output_type": "stream",
     "text": [
      "<generator object <genexpr> at 0x00000220B2D233C0>\n"
     ]
    }
   ],
   "source": [
    "my_tuple = (1,2,3,4,5)\n",
    "\n",
    "new_tuple = ( 8 if x == 5\n",
    "            else x\n",
    "            for x in my_tuple)\n",
    "print(new_tuple)"
   ]
  },
  {
   "cell_type": "code",
   "execution_count": 27,
   "id": "6a6e1899",
   "metadata": {},
   "outputs": [
    {
     "name": "stdout",
     "output_type": "stream",
     "text": [
      "<generator object <genexpr> at 0x00000220B2D18CF0>\n"
     ]
    }
   ],
   "source": [
    "my_tuple = (1,2,3,4,5)\n",
    "\n",
    "new_tuple = ( 9 if x == 5\n",
    "            else x\n",
    "            for x in my_tuple)\n",
    "print(new_tuple)"
   ]
  },
  {
   "cell_type": "code",
   "execution_count": 18,
   "id": "6fd6315f",
   "metadata": {},
   "outputs": [
    {
     "name": "stdout",
     "output_type": "stream",
     "text": [
      "(1, 2, 3, 'sam', 'mohd', 200.5, True)\n",
      "<class 'tuple'>\n"
     ]
    }
   ],
   "source": [
    "my_tup = (1,2,3,'sam','mohd',200.5, True)\n",
    "print(my_tup)\n",
    "print(type(my_tup))"
   ]
  },
  {
   "cell_type": "code",
   "execution_count": 19,
   "id": "4ddf9b4f",
   "metadata": {},
   "outputs": [
    {
     "name": "stdout",
     "output_type": "stream",
     "text": [
      "7\n"
     ]
    }
   ],
   "source": [
    "print(len(my_tup))"
   ]
  },
  {
   "cell_type": "code",
   "execution_count": 20,
   "id": "e6ed7eb3",
   "metadata": {},
   "outputs": [
    {
     "name": "stdout",
     "output_type": "stream",
     "text": [
      "(1, 2, 3, 'sam', 'mohd', 200.5, True)\n"
     ]
    }
   ],
   "source": [
    "# Copy one variable values in new var\n",
    "my_tup = (1,2,3,'sam','mohd',200.5, True)\n",
    "my_tup2 = my_tup\n",
    "print(my_tup2)"
   ]
  },
  {
   "cell_type": "markdown",
   "id": "f9446b34",
   "metadata": {},
   "source": [
    "## Dictonary\n",
    "\n",
    "* Store the elements int,str,flo,bool\n",
    "* Mutable means we can modify, change the elements \n",
    "* it is represented by {}\n",
    "* elements stored in key value pair eg: {'sam' : 23}"
   ]
  },
  {
   "cell_type": "code",
   "execution_count": 30,
   "id": "409d16d6",
   "metadata": {},
   "outputs": [
    {
     "name": "stdout",
     "output_type": "stream",
     "text": [
      "{1, 2, 3, 4, 5}\n"
     ]
    }
   ],
   "source": [
    "my_dict = {1,2,3,4,5}\n",
    "print(my_dict)"
   ]
  },
  {
   "cell_type": "code",
   "execution_count": 36,
   "id": "f0f22932",
   "metadata": {},
   "outputs": [
    {
     "name": "stdout",
     "output_type": "stream",
     "text": [
      "[1, 2, 8, 4, 5]\n"
     ]
    }
   ],
   "source": [
    "my_dict = {1,2,3,4,5}\n",
    "\n",
    "new_dict = [8 if x == 3\n",
    "            else x\n",
    "            for x in my_dict]\n",
    "print(new_dict)"
   ]
  },
  {
   "cell_type": "code",
   "execution_count": 39,
   "id": "ccbb9eb0",
   "metadata": {},
   "outputs": [
    {
     "name": "stdout",
     "output_type": "stream",
     "text": [
      "[1, 2, 'hyy', 4, 5]\n"
     ]
    }
   ],
   "source": [
    "my_dict = {1,2,3,4,5}\n",
    "\n",
    "new_dict = [ 'hyy' if x == 3\n",
    "            else x\n",
    "            for x in my_dict]\n",
    "print(new_dict)"
   ]
  },
  {
   "cell_type": "markdown",
   "id": "9832c151",
   "metadata": {},
   "source": [
    "## Set \n",
    "\n",
    "* Elements are not fixed by index\n",
    "* Set doesn't allow dubligate values\n",
    "* Set is represented by {}"
   ]
  },
  {
   "cell_type": "code",
   "execution_count": 2,
   "id": "e24388a3",
   "metadata": {},
   "outputs": [
    {
     "name": "stdout",
     "output_type": "stream",
     "text": [
      "<class 'dict'>\n"
     ]
    }
   ],
   "source": [
    "s1 = {}\n",
    "print(type(s1))"
   ]
  },
  {
   "cell_type": "code",
   "execution_count": 4,
   "id": "9f9798be",
   "metadata": {},
   "outputs": [
    {
     "ename": "SyntaxError",
     "evalue": "invalid syntax (2456522010.py, line 1)",
     "output_type": "error",
     "traceback": [
      "\u001b[1;36m  File \u001b[1;32m\"C:\\Users\\SAMEER\\AppData\\Local\\Temp\\ipykernel_26744\\2456522010.py\"\u001b[1;36m, line \u001b[1;32m1\u001b[0m\n\u001b[1;33m    s1 = set {}\u001b[0m\n\u001b[1;37m             ^\u001b[0m\n\u001b[1;31mSyntaxError\u001b[0m\u001b[1;31m:\u001b[0m invalid syntax\n"
     ]
    }
   ],
   "source": [
    "s1 = set {}\n",
    "print(type(s1))"
   ]
  },
  {
   "cell_type": "code",
   "execution_count": 5,
   "id": "e557b44e",
   "metadata": {},
   "outputs": [
    {
     "name": "stdout",
     "output_type": "stream",
     "text": [
      "{'sam', 1, 2, 3, 200.5, 'mohd'}\n",
      "<class 'set'>\n"
     ]
    }
   ],
   "source": [
    "s1 = {1,2,3,'mohd','sam',True,200.5}\n",
    "print(s1)\n",
    "print(type(s1))"
   ]
  },
  {
   "cell_type": "code",
   "execution_count": 9,
   "id": "609fb2d9",
   "metadata": {},
   "outputs": [],
   "source": [
    "s1.update([\"hussain\"])"
   ]
  },
  {
   "cell_type": "code",
   "execution_count": 10,
   "id": "bfa374a6",
   "metadata": {},
   "outputs": [
    {
     "name": "stdout",
     "output_type": "stream",
     "text": [
      "{'sam', 1, 2, 3, 'hussain', 200.5, 'mohd'}\n"
     ]
    }
   ],
   "source": [
    "print(s1)"
   ]
  },
  {
   "cell_type": "code",
   "execution_count": 13,
   "id": "8cceccee",
   "metadata": {},
   "outputs": [],
   "source": [
    "s1.remove(\"hussain\")"
   ]
  },
  {
   "cell_type": "code",
   "execution_count": 15,
   "id": "09830298",
   "metadata": {},
   "outputs": [
    {
     "name": "stdout",
     "output_type": "stream",
     "text": [
      "{'sam', 1, 2, 3, 200.5, 'mohd'}\n"
     ]
    }
   ],
   "source": [
    "print(s1)"
   ]
  },
  {
   "cell_type": "code",
   "execution_count": 40,
   "id": "59ccfe7f",
   "metadata": {},
   "outputs": [
    {
     "name": "stdout",
     "output_type": "stream",
     "text": [
      "<class 'set'>\n"
     ]
    }
   ],
   "source": [
    "a = {1,2,3,4,5}\n",
    "print(type(a))"
   ]
  },
  {
   "cell_type": "code",
   "execution_count": 16,
   "id": "f3b616b4",
   "metadata": {},
   "outputs": [
    {
     "data": {
      "text/plain": [
       "'sam'"
      ]
     },
     "execution_count": 16,
     "metadata": {},
     "output_type": "execute_result"
    }
   ],
   "source": [
    "s1.pop()"
   ]
  },
  {
   "cell_type": "code",
   "execution_count": 17,
   "id": "861a5f95",
   "metadata": {},
   "outputs": [
    {
     "data": {
      "text/plain": [
       "1"
      ]
     },
     "execution_count": 17,
     "metadata": {},
     "output_type": "execute_result"
    }
   ],
   "source": [
    "s1.pop()"
   ]
  },
  {
   "cell_type": "code",
   "execution_count": 18,
   "id": "535704f5",
   "metadata": {},
   "outputs": [
    {
     "name": "stdout",
     "output_type": "stream",
     "text": [
      "{2, 3, 200.5, 'mohd'}\n"
     ]
    }
   ],
   "source": [
    "print(s1)"
   ]
  },
  {
   "cell_type": "code",
   "execution_count": 19,
   "id": "7a6f99d7",
   "metadata": {},
   "outputs": [
    {
     "name": "stdout",
     "output_type": "stream",
     "text": [
      "set()\n"
     ]
    }
   ],
   "source": [
    "s1.clear()\n",
    "print(s1)"
   ]
  },
  {
   "cell_type": "code",
   "execution_count": 27,
   "id": "349b9e26",
   "metadata": {},
   "outputs": [
    {
     "name": "stdout",
     "output_type": "stream",
     "text": [
      "{False, 1, 2, 3, 200.5, 'india', 'sam', 'mohd'}\n"
     ]
    }
   ],
   "source": [
    "s1 = {1,2,3,'mohd','sam',True,200.5}\n",
    "s2 = {1,2,3,'mohd','sam',True,200.5,'india',False}\n",
    "print(s1.union(s2))\n",
    "# UNION - print all values by two sets but print common  values one time only"
   ]
  },
  {
   "cell_type": "code",
   "execution_count": 26,
   "id": "1f797c72",
   "metadata": {},
   "outputs": [
    {
     "name": "stdout",
     "output_type": "stream",
     "text": [
      "{False, 1, 2, 3, 200.5, 'india', 'sam', 'mohd'}\n",
      "{1, 2, 3, 200.5, 'sam', 'mohd'}\n"
     ]
    }
   ],
   "source": [
    "s1 = {1,2,3,'mohd','sam',True,200.5}\n",
    "s2 = {1,2,3,'mohd','sam',True,200.5,'india',False}\n",
    "print(s1.union(s2))\n",
    "print(s1 & s2) # using Operator\n",
    "\n",
    "# UNION - print all values by two sets but print common  values one time only"
   ]
  },
  {
   "cell_type": "code",
   "execution_count": 25,
   "id": "9f6b293c",
   "metadata": {},
   "outputs": [
    {
     "name": "stdout",
     "output_type": "stream",
     "text": [
      "{1, 2, 3, 200.5, 'sam', 'mohd'}\n"
     ]
    }
   ],
   "source": [
    "s1 = {1,2,3,'mohd','sam',True,200.5}\n",
    "s2 = {1,2,3,'mohd','sam',True,200.5,'india',False}\n",
    "print(s1.intersection(s2))\n",
    "print(s1 & s2)\n",
    "# INTERSECTION - print only common values"
   ]
  },
  {
   "cell_type": "code",
   "execution_count": 48,
   "id": "c652383d",
   "metadata": {},
   "outputs": [
    {
     "name": "stdout",
     "output_type": "stream",
     "text": [
      "<class 'dict'>\n",
      "23\n"
     ]
    }
   ],
   "source": [
    "a = {'age':23}\n",
    "print(type(a))\n",
    "\n",
    "print(a.get('age'))"
   ]
  },
  {
   "cell_type": "code",
   "execution_count": null,
   "id": "edb2e69a",
   "metadata": {},
   "outputs": [],
   "source": []
  }
 ],
 "metadata": {
  "kernelspec": {
   "display_name": "Python 3 (ipykernel)",
   "language": "python",
   "name": "python3"
  },
  "language_info": {
   "codemirror_mode": {
    "name": "ipython",
    "version": 3
   },
   "file_extension": ".py",
   "mimetype": "text/x-python",
   "name": "python",
   "nbconvert_exporter": "python",
   "pygments_lexer": "ipython3",
   "version": "3.9.13"
  }
 },
 "nbformat": 4,
 "nbformat_minor": 5
}
