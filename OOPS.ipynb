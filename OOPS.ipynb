{
 "cells": [
  {
   "cell_type": "code",
   "execution_count": 5,
   "id": "4507b05a",
   "metadata": {},
   "outputs": [],
   "source": [
    "class Phone:\n",
    "    def call(self):\n",
    "        print(\"Make a Call\")\n",
    "    def game(self):\n",
    "        print(\"Play a Game\")"
   ]
  },
  {
   "cell_type": "code",
   "execution_count": 6,
   "id": "bd7ddd06",
   "metadata": {},
   "outputs": [],
   "source": [
    "p1 = Phone()"
   ]
  },
  {
   "cell_type": "code",
   "execution_count": 8,
   "id": "a0db1881",
   "metadata": {},
   "outputs": [
    {
     "name": "stdout",
     "output_type": "stream",
     "text": [
      "Make a Call\n"
     ]
    }
   ],
   "source": [
    "p1.call()"
   ]
  },
  {
   "cell_type": "code",
   "execution_count": 9,
   "id": "a5fbc996",
   "metadata": {},
   "outputs": [
    {
     "name": "stdout",
     "output_type": "stream",
     "text": [
      "Play a Game\n"
     ]
    }
   ],
   "source": [
    "p1.game()"
   ]
  },
  {
   "cell_type": "code",
   "execution_count": 12,
   "id": "59080a5e",
   "metadata": {},
   "outputs": [],
   "source": [
    "class Phone:\n",
    "    def set_color(self,color):\n",
    "        self.color = color\n",
    "    def set_cost(self,cost):\n",
    "        self.cost = cost\n",
    "    def show_color(self):\n",
    "        return self.color\n",
    "    def show_cost(self):\n",
    "        return self.cost\n",
    "    def call(self):\n",
    "        print(\"Make a Call\")\n",
    "    def game(self):\n",
    "        print(\"Play a Game\")"
   ]
  },
  {
   "cell_type": "code",
   "execution_count": 13,
   "id": "23c2c177",
   "metadata": {},
   "outputs": [],
   "source": [
    "p2 = Phone()\n",
    "p2.set_color(\"White\")\n",
    "p2.set_cost(20000)"
   ]
  },
  {
   "cell_type": "code",
   "execution_count": 14,
   "id": "eeffa19e",
   "metadata": {},
   "outputs": [
    {
     "data": {
      "text/plain": [
       "'White'"
      ]
     },
     "execution_count": 14,
     "metadata": {},
     "output_type": "execute_result"
    }
   ],
   "source": [
    "p2.show_color()"
   ]
  },
  {
   "cell_type": "code",
   "execution_count": 15,
   "id": "c2efd439",
   "metadata": {},
   "outputs": [
    {
     "data": {
      "text/plain": [
       "20000"
      ]
     },
     "execution_count": 15,
     "metadata": {},
     "output_type": "execute_result"
    }
   ],
   "source": [
    "p2.show_cost()"
   ]
  },
  {
   "cell_type": "code",
   "execution_count": 16,
   "id": "03b744ab",
   "metadata": {},
   "outputs": [
    {
     "name": "stdout",
     "output_type": "stream",
     "text": [
      "Make a Call\n"
     ]
    }
   ],
   "source": [
    "p2.call()"
   ]
  },
  {
   "cell_type": "code",
   "execution_count": 17,
   "id": "a806e343",
   "metadata": {},
   "outputs": [
    {
     "name": "stdout",
     "output_type": "stream",
     "text": [
      "Play a Game\n"
     ]
    }
   ],
   "source": [
    "p2.game()"
   ]
  },
  {
   "cell_type": "code",
   "execution_count": 26,
   "id": "0b435949",
   "metadata": {},
   "outputs": [],
   "source": [
    "# Creating a class with Constructor\n",
    "# Constructor is a method which initilize the value\n",
    "class Employee:\n",
    "    \n",
    "    def __init__(self,Name,Age,City,Salary,Gender):\n",
    "        self.name   = Name\n",
    "        self.age    = Age\n",
    "        self.city   = City\n",
    "        self.salary = Salary\n",
    "        self.gender = Gender\n",
    "        \n",
    "    def Employee_details(self):\n",
    "        print(\"Name of Employee is :\",self.name)\n",
    "        print(\"Age of Employee is :\",self.age)\n",
    "        print(\"City of Employee is :\",self.city)\n",
    "        print(\"Salary of Employee is :\",self.salary)\n",
    "        print(\"Gender of Employee is :\",self.gender)"
   ]
  },
  {
   "cell_type": "code",
   "execution_count": 27,
   "id": "df5cb871",
   "metadata": {},
   "outputs": [],
   "source": [
    "e1 = Employee(\"Sameer\",24,\"Hyderabad\",40000,\"Male\")"
   ]
  },
  {
   "cell_type": "code",
   "execution_count": 28,
   "id": "36a5b037",
   "metadata": {},
   "outputs": [
    {
     "name": "stdout",
     "output_type": "stream",
     "text": [
      "Name of Employee is : Sameer\n",
      "Age of Employee is : 24\n",
      "City of Employee is : Hyderabad\n",
      "Salary of Employee is : 40000\n",
      "Gender of Employee is : Male\n"
     ]
    }
   ],
   "source": [
    "e1.Employee_details()"
   ]
  },
  {
   "cell_type": "code",
   "execution_count": 33,
   "id": "41ca3ad0",
   "metadata": {},
   "outputs": [
    {
     "name": "stdout",
     "output_type": "stream",
     "text": [
      "KIA 8 6\n",
      "KIA 10 6\n"
     ]
    }
   ],
   "source": [
    "class car:\n",
    "    wheels = 4\n",
    "    def __init__(self):\n",
    "        self.mil = 10\n",
    "        self.comp = 'KIA'\n",
    "c1 = car()\n",
    "c2 = car()\n",
    "c1.mil = 8\n",
    "car.wheels = 6\n",
    "print(c1.comp,c1.mil,c1.wheels)\n",
    "print(c2.comp,c2.mil,c2.wheels)"
   ]
  },
  {
   "cell_type": "markdown",
   "id": "c56f0380",
   "metadata": {},
   "source": [
    "###  Polymorphism "
   ]
  },
  {
   "cell_type": "code",
   "execution_count": null,
   "id": "7af29822",
   "metadata": {},
   "outputs": [],
   "source": []
  }
 ],
 "metadata": {
  "kernelspec": {
   "display_name": "Python 3 (ipykernel)",
   "language": "python",
   "name": "python3"
  },
  "language_info": {
   "codemirror_mode": {
    "name": "ipython",
    "version": 3
   },
   "file_extension": ".py",
   "mimetype": "text/x-python",
   "name": "python",
   "nbconvert_exporter": "python",
   "pygments_lexer": "ipython3",
   "version": "3.9.13"
  }
 },
 "nbformat": 4,
 "nbformat_minor": 5
}
