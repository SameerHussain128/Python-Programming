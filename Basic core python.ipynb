{
 "cells": [
  {
   "cell_type": "markdown",
   "id": "63e5d89e",
   "metadata": {},
   "source": [
    "### Flavours of Python\n",
    "\n",
    "* Jpython\n",
    "* Pypy (python)\n",
    "* Anaconda Python\n",
    "* Cpython"
   ]
  },
  {
   "cell_type": "code",
   "execution_count": null,
   "id": "1b77aa62",
   "metadata": {},
   "outputs": [],
   "source": []
  }
 ],
 "metadata": {
  "kernelspec": {
   "display_name": "Python 3 (ipykernel)",
   "language": "python",
   "name": "python3"
  },
  "language_info": {
   "codemirror_mode": {
    "name": "ipython",
    "version": 3
   },
   "file_extension": ".py",
   "mimetype": "text/x-python",
   "name": "python",
   "nbconvert_exporter": "python",
   "pygments_lexer": "ipython3",
   "version": "3.9.13"
  }
 },
 "nbformat": 4,
 "nbformat_minor": 5
}
