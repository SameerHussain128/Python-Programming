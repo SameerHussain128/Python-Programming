{
 "cells": [
  {
   "cell_type": "markdown",
   "id": "185bc546",
   "metadata": {},
   "source": [
    "### \n",
    "Dictionaries are used to store data values in key:value pairs.\n",
    "A dic is a coll which is ordered, changeable and do not allow duplicates.\n"
   ]
  },
  {
   "cell_type": "code",
   "execution_count": 3,
   "id": "935ee96f",
   "metadata": {},
   "outputs": [
    {
     "ename": "SyntaxError",
     "evalue": "invalid syntax (3683482388.py, line 2)",
     "output_type": "error",
     "traceback": [
      "\u001b[1;36m  File \u001b[1;32m\"C:\\Users\\SAMEER\\AppData\\Local\\Temp\\ipykernel_22460\\3683482388.py\"\u001b[1;36m, line \u001b[1;32m2\u001b[0m\n\u001b[1;33m    create and print a dictionary:\u001b[0m\n\u001b[1;37m                     ^\u001b[0m\n\u001b[1;31mSyntaxError\u001b[0m\u001b[1;31m:\u001b[0m invalid syntax\n"
     ]
    }
   ],
   "source": [
    "# Example\n",
    "# create and print a dictionary:\n",
    "\n",
    "thisdict =\n",
    "{\n",
    "    \"brand\": \"Ford\",\n",
    "    \"Model\": \"Mustang\",\n",
    "    \"year\": 1964\n",
    "}\n",
    "print(thisdict)"
   ]
  },
  {
   "cell_type": "code",
   "execution_count": 4,
   "id": "81bf9b5e",
   "metadata": {},
   "outputs": [],
   "source": [
    "my_dict = {}"
   ]
  },
  {
   "cell_type": "code",
   "execution_count": 5,
   "id": "cf19a8d7",
   "metadata": {},
   "outputs": [
    {
     "name": "stdout",
     "output_type": "stream",
     "text": [
      "{1: 'abc', 2: 'xyz'}\n"
     ]
    }
   ],
   "source": [
    "my_dict = {1:'abc', 2:'xyz'}\n",
    "print(my_dict)"
   ]
  },
  {
   "cell_type": "code",
   "execution_count": 6,
   "id": "8e180dfa",
   "metadata": {},
   "outputs": [
    {
     "name": "stdout",
     "output_type": "stream",
     "text": [
      "{'name': 'sam', 1: ['abc', 'xyz']}\n",
      "{1: 'abc', 2: 'xyz'}\n"
     ]
    }
   ],
   "source": [
    "#dictionary with mixed keys\n",
    "my_dict = {'name':'sam', 1:['abc','xyz']}\n",
    "print(my_dict)\n",
    "\n",
    "#create empty dictonary using dict()\n",
    "my_dict = dict()\n",
    "\n",
    "#create a dict with list of tuples\n",
    "my_dict = dict([(1,'abc'),(2,'xyz')])\n",
    "print(my_dict)\n"
   ]
  },
  {
   "cell_type": "code",
   "execution_count": 7,
   "id": "e9fb0eb7",
   "metadata": {},
   "outputs": [
    {
     "name": "stdout",
     "output_type": "stream",
     "text": [
      "Hussain\n"
     ]
    }
   ],
   "source": [
    "#dict access\n",
    "my_dict = {'name':'Hussain', 'age': 23, 'city': \"Hyderabad\"}\n",
    "#get name\n",
    "print(my_dict['name'])"
   ]
  },
  {
   "cell_type": "code",
   "execution_count": 11,
   "id": "04b99447",
   "metadata": {},
   "outputs": [
    {
     "name": "stdout",
     "output_type": "stream",
     "text": [
      "😂\n"
     ]
    }
   ],
   "source": [
    "dicemo = {'happy':\"😂\", 'sad':'☹️'}\n",
    "print(dicemo['happy'])"
   ]
  },
  {
   "cell_type": "code",
   "execution_count": 14,
   "id": "3580c036",
   "metadata": {},
   "outputs": [
    {
     "name": "stdout",
     "output_type": "stream",
     "text": [
      "Hyderabad\n"
     ]
    }
   ],
   "source": [
    "print(my_dict.get('city'))"
   ]
  },
  {
   "cell_type": "code",
   "execution_count": 15,
   "id": "a51f835a",
   "metadata": {},
   "outputs": [
    {
     "name": "stdout",
     "output_type": "stream",
     "text": [
      "Hashmi\n"
     ]
    }
   ],
   "source": [
    "#dict access\n",
    "my_dict = {'name':'Hashmi', 'age': 23, 'city': \"Banglore\"}\n",
    "#get name\n",
    "print(my_dict['name'])"
   ]
  },
  {
   "cell_type": "code",
   "execution_count": 16,
   "id": "c4ec9645",
   "metadata": {},
   "outputs": [
    {
     "name": "stdout",
     "output_type": "stream",
     "text": [
      "{'name': 'Hashmi', 'age': 23, 'city': 'Banglore', 'degree': 'B.Tech'}\n"
     ]
    }
   ],
   "source": [
    "my_dict['degree'] = 'B.Tech'\n",
    "print(my_dict)"
   ]
  },
  {
   "cell_type": "code",
   "execution_count": 17,
   "id": "f6f4777e",
   "metadata": {},
   "outputs": [
    {
     "name": "stdout",
     "output_type": "stream",
     "text": [
      "23\n",
      "{'name': 'Hashmi', 'city': 'Banglore'}\n"
     ]
    }
   ],
   "source": [
    "my_dict = {'name':'Hashmi', 'age': 23, 'city': \"Banglore\"}\n",
    "#remove a particular item\n",
    "print(my_dict.pop('age'))\n",
    "print(my_dict)"
   ]
  },
  {
   "cell_type": "code",
   "execution_count": 20,
   "id": "ee02e7a1",
   "metadata": {},
   "outputs": [
    {
     "name": "stdout",
     "output_type": "stream",
     "text": [
      "{'name': 'Hashmi', 'age': 23}\n"
     ]
    }
   ],
   "source": [
    "my_dict = {'name':'Hashmi', 'age': 23, 'city': \"Banglore\"}\n",
    "#remove an arbitrary key\n",
    "my_dict.popitem()\n",
    "print(my_dict)"
   ]
  },
  {
   "cell_type": "code",
   "execution_count": 23,
   "id": "04fade8f",
   "metadata": {},
   "outputs": [
    {
     "name": "stdout",
     "output_type": "stream",
     "text": [
      "{3: 9, 4: 16, 5: 25}\n"
     ]
    }
   ],
   "source": [
    "squares = {2:4, 3:9, 4:16, 5:25}\n",
    "# delete particular key\n",
    "del squares[2]\n",
    "print(squares)"
   ]
  },
  {
   "cell_type": "code",
   "execution_count": 24,
   "id": "01ebe55d",
   "metadata": {},
   "outputs": [
    {
     "name": "stdout",
     "output_type": "stream",
     "text": [
      "{}\n"
     ]
    }
   ],
   "source": [
    "squares.clear()\n",
    "print(squares)"
   ]
  },
  {
   "cell_type": "code",
   "execution_count": 25,
   "id": "e3a15d73",
   "metadata": {},
   "outputs": [
    {
     "name": "stdout",
     "output_type": "stream",
     "text": [
      "{2: 4, 3: 9, 4: 16, 5: 25}\n"
     ]
    }
   ],
   "source": [
    "squares = {2:4, 3:9, 4:16, 5:25}\n",
    "mydicsq = squares.copy()\n",
    "print(mydicsq)"
   ]
  },
  {
   "cell_type": "code",
   "execution_count": 26,
   "id": "3de54754",
   "metadata": {},
   "outputs": [
    {
     "name": "stdout",
     "output_type": "stream",
     "text": [
      "{'Maths': 100, 'Science': 100, 'English': 100}\n"
     ]
    }
   ],
   "source": [
    "subjects = {}.fromkeys(['Maths','Science','English'],100)\n",
    "print(subjects)"
   ]
  },
  {
   "cell_type": "code",
   "execution_count": 27,
   "id": "63f4ce95",
   "metadata": {},
   "outputs": [
    {
     "name": "stdout",
     "output_type": "stream",
     "text": [
      "dict_items([('Maths', 100), ('Science', 100), ('English', 100)])\n"
     ]
    }
   ],
   "source": [
    "print(subjects.items())"
   ]
  },
  {
   "cell_type": "code",
   "execution_count": 28,
   "id": "c90b40cc",
   "metadata": {},
   "outputs": [
    {
     "name": "stdout",
     "output_type": "stream",
     "text": [
      "dict_items([(2, 4), (3, 9), (4, 16), (5, 25)])\n"
     ]
    }
   ],
   "source": [
    "squares = {2:4, 3:9, 4:16, 5:25}\n",
    "print(squares.items())"
   ]
  },
  {
   "cell_type": "code",
   "execution_count": 29,
   "id": "ac00c567",
   "metadata": {},
   "outputs": [
    {
     "name": "stdout",
     "output_type": "stream",
     "text": [
      "dict_keys([2, 3, 4, 5])\n"
     ]
    }
   ],
   "source": [
    "print(squares.keys())"
   ]
  },
  {
   "cell_type": "code",
   "execution_count": 30,
   "id": "4ad835b9",
   "metadata": {},
   "outputs": [
    {
     "name": "stdout",
     "output_type": "stream",
     "text": [
      "dict_keys(['Maths', 'Science', 'English'])\n"
     ]
    }
   ],
   "source": [
    "print(subjects.keys())"
   ]
  },
  {
   "cell_type": "code",
   "execution_count": 31,
   "id": "cd6a1b44",
   "metadata": {},
   "outputs": [
    {
     "name": "stdout",
     "output_type": "stream",
     "text": [
      "dict_values([100, 100, 100])\n"
     ]
    }
   ],
   "source": [
    "print(subjects.values())"
   ]
  },
  {
   "cell_type": "code",
   "execution_count": 32,
   "id": "9ed9e083",
   "metadata": {},
   "outputs": [
    {
     "name": "stdout",
     "output_type": "stream",
     "text": [
      "['__class__', '__class_getitem__', '__contains__', '__delattr__', '__delitem__', '__dir__', '__doc__', '__eq__', '__format__', '__ge__', '__getattribute__', '__getitem__', '__gt__', '__hash__', '__init__', '__init_subclass__', '__ior__', '__iter__', '__le__', '__len__', '__lt__', '__ne__', '__new__', '__or__', '__reduce__', '__reduce_ex__', '__repr__', '__reversed__', '__ror__', '__setattr__', '__setitem__', '__sizeof__', '__str__', '__subclasshook__', 'clear', 'copy', 'fromkeys', 'get', 'items', 'keys', 'pop', 'popitem', 'setdefault', 'update', 'values']\n"
     ]
    }
   ],
   "source": [
    "d = {}\n",
    "print(dir(d))"
   ]
  },
  {
   "cell_type": "code",
   "execution_count": 40,
   "id": "7c77bf1f",
   "metadata": {},
   "outputs": [
    {
     "name": "stdout",
     "output_type": "stream",
     "text": [
      "('a', 1)\n",
      "('b', 2)\n",
      "('c', 3)\n"
     ]
    }
   ],
   "source": [
    "#dict comprehensions\n",
    "d = {'a':1, 'b':2, 'c':3}\n",
    "for pair in d.items():\n",
    "    print(pair)"
   ]
  },
  {
   "cell_type": "code",
   "execution_count": 41,
   "id": "72d045cd",
   "metadata": {},
   "outputs": [
    {
     "name": "stdout",
     "output_type": "stream",
     "text": [
      "{'c': 3, 'd': 4}\n"
     ]
    }
   ],
   "source": [
    "d = {'a':1, 'b':2, 'c':3, 'd':4}\n",
    "new_dict = {k:v for k,v in d.items() if v>2}\n",
    "print(new_dict)"
   ]
  },
  {
   "cell_type": "code",
   "execution_count": 42,
   "id": "74a1d7f1",
   "metadata": {},
   "outputs": [
    {
     "name": "stdout",
     "output_type": "stream",
     "text": [
      "{'cc': 6, 'dc': 8, 'ec': 10}\n"
     ]
    }
   ],
   "source": [
    "d = {'a':1, 'b':2, 'c':3, 'd':4, 'e':5}\n",
    "d = {k + 'c':v * 2 for k,v in d.items() if v>2}\n",
    "print(d)"
   ]
  },
  {
   "cell_type": "markdown",
   "id": "16df03eb",
   "metadata": {},
   "source": [
    "###  Lambda aka Anonymous fun\n",
    "* which has no name"
   ]
  },
  {
   "cell_type": "code",
   "execution_count": 1,
   "id": "3df46e96",
   "metadata": {},
   "outputs": [
    {
     "name": "stdout",
     "output_type": "stream",
     "text": [
      "10\n"
     ]
    }
   ],
   "source": [
    "double = lambda x:x*2\n",
    "print(double(5))"
   ]
  },
  {
   "cell_type": "code",
   "execution_count": 2,
   "id": "efe28d84",
   "metadata": {},
   "outputs": [
    {
     "name": "stdout",
     "output_type": "stream",
     "text": [
      "10\n"
     ]
    }
   ],
   "source": [
    "def double(x):\n",
    "    return x*2\n",
    "print(double(5))"
   ]
  },
  {
   "cell_type": "code",
   "execution_count": 3,
   "id": "c35ac557",
   "metadata": {},
   "outputs": [
    {
     "name": "stdout",
     "output_type": "stream",
     "text": [
      "[1, 4, 9, 16, 25]\n"
     ]
    }
   ],
   "source": [
    "# Lambda function with Map()\n",
    "lst = [1,2,3,4,5]\n",
    "new_lst = list(map(lambda x: x**2, lst))\n",
    "print(new_lst)"
   ]
  },
  {
   "cell_type": "code",
   "execution_count": 4,
   "id": "c7e1811b",
   "metadata": {},
   "outputs": [
    {
     "name": "stdout",
     "output_type": "stream",
     "text": [
      "[2, 4]\n"
     ]
    }
   ],
   "source": [
    "# Lambda function with filter()\n",
    "lst = [1,2,3,4,5]\n",
    "even_list = list(filter(lambda x: x%2 == 0, lst))\n",
    "print(even_list)"
   ]
  },
  {
   "cell_type": "code",
   "execution_count": 7,
   "id": "0ae75e6c",
   "metadata": {},
   "outputs": [
    {
     "name": "stdout",
     "output_type": "stream",
     "text": [
      "120\n"
     ]
    }
   ],
   "source": [
    "# Lambda function with reduce()\n",
    "from functools import reduce\n",
    "lst = [1,2,3,4,5]\n",
    "product_list = reduce(lambda x,y: x*y, lst)\n",
    "print(product_list)"
   ]
  },
  {
   "cell_type": "code",
   "execution_count": 8,
   "id": "8fb3e0fa",
   "metadata": {},
   "outputs": [],
   "source": [
    "# Recursion Example\n",
    "def t(k):\n",
    "    if(k>0):\n",
    "        result = k+t(k-1)\n",
    "        print(result)\n",
    "    else:\n",
    "        result = 0\n",
    "        return result\n",
    "    \n",
    "    print(\"\\n\\nRecursion Example Result\")\n",
    "    print(t(6))"
   ]
  },
  {
   "cell_type": "code",
   "execution_count": null,
   "id": "2898e1a0",
   "metadata": {},
   "outputs": [],
   "source": []
  }
 ],
 "metadata": {
  "kernelspec": {
   "display_name": "Python 3 (ipykernel)",
   "language": "python",
   "name": "python3"
  },
  "language_info": {
   "codemirror_mode": {
    "name": "ipython",
    "version": 3
   },
   "file_extension": ".py",
   "mimetype": "text/x-python",
   "name": "python",
   "nbconvert_exporter": "python",
   "pygments_lexer": "ipython3",
   "version": "3.9.13"
  }
 },
 "nbformat": 4,
 "nbformat_minor": 5
}
