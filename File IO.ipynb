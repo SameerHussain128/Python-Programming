{
 "cells": [
  {
   "cell_type": "markdown",
   "id": "c523c610",
   "metadata": {},
   "source": [
    "### File IO "
   ]
  },
  {
   "cell_type": "code",
   "execution_count": 1,
   "id": "02ef2149",
   "metadata": {},
   "outputs": [
    {
     "data": {
      "text/plain": [
       "'C:\\\\Users\\\\SAMEER\\\\Programming\\\\Python Programming'"
      ]
     },
     "execution_count": 1,
     "metadata": {},
     "output_type": "execute_result"
    }
   ],
   "source": [
    "import os\n",
    "os.getcwd()"
   ]
  },
  {
   "cell_type": "code",
   "execution_count": 2,
   "id": "7cfe900f",
   "metadata": {},
   "outputs": [],
   "source": [
    "f = open('file','w')  # opens file in current directory"
   ]
  },
  {
   "cell_type": "code",
   "execution_count": 3,
   "id": "8cdd57cc",
   "metadata": {},
   "outputs": [],
   "source": [
    "f = open('file','w')\n",
    "f.close()             # not a save method"
   ]
  },
  {
   "cell_type": "code",
   "execution_count": 4,
   "id": "186c42ab",
   "metadata": {},
   "outputs": [],
   "source": [
    "try:\n",
    "    f = open(\"file.txt\",'w')\n",
    "    # do what u wnt\n",
    "finally:\n",
    "    f.close()"
   ]
  },
  {
   "cell_type": "code",
   "execution_count": 5,
   "id": "e386d7d7",
   "metadata": {},
   "outputs": [],
   "source": [
    "# Write a File\n",
    "f = open(\"file\",'w')\n",
    "f.write(\"No data\\n\")\n",
    "f.write(\"i said know there is no data\\n\")\n",
    "f.close()"
   ]
  },
  {
   "cell_type": "code",
   "execution_count": null,
   "id": "0127e875",
   "metadata": {},
   "outputs": [],
   "source": [
    "f = open('file','r')\n",
    "f.read()"
   ]
  },
  {
   "cell_type": "code",
   "execution_count": 6,
   "id": "75319e4b",
   "metadata": {},
   "outputs": [
    {
     "data": {
      "text/plain": [
       "'No'"
      ]
     },
     "execution_count": 6,
     "metadata": {},
     "output_type": "execute_result"
    }
   ],
   "source": [
    "f = open('file','r')\n",
    "f.read(2)"
   ]
  },
  {
   "cell_type": "code",
   "execution_count": 7,
   "id": "b0f90366",
   "metadata": {},
   "outputs": [
    {
     "data": {
      "text/plain": [
       "2"
      ]
     },
     "execution_count": 7,
     "metadata": {},
     "output_type": "execute_result"
    }
   ],
   "source": [
    "f.tell()"
   ]
  },
  {
   "cell_type": "code",
   "execution_count": 12,
   "id": "587e3ecc",
   "metadata": {},
   "outputs": [
    {
     "data": {
      "text/plain": [
       "''"
      ]
     },
     "execution_count": 12,
     "metadata": {},
     "output_type": "execute_result"
    }
   ],
   "source": [
    "f.read(5)"
   ]
  },
  {
   "cell_type": "code",
   "execution_count": 13,
   "id": "5893f727",
   "metadata": {},
   "outputs": [
    {
     "data": {
      "text/plain": [
       "0"
      ]
     },
     "execution_count": 13,
     "metadata": {},
     "output_type": "execute_result"
    }
   ],
   "source": [
    "f.seek(0)  #brings cursor to initial position"
   ]
  },
  {
   "cell_type": "code",
   "execution_count": 14,
   "id": "57ee5d76",
   "metadata": {},
   "outputs": [
    {
     "name": "stdout",
     "output_type": "stream",
     "text": [
      "No data\n",
      "i said know there is no data\n",
      "\n"
     ]
    }
   ],
   "source": [
    "print(f.read())"
   ]
  },
  {
   "cell_type": "code",
   "execution_count": 16,
   "id": "ba3005d9",
   "metadata": {},
   "outputs": [
    {
     "name": "stdout",
     "output_type": "stream",
     "text": [
      "No data\n",
      "\n",
      "i said know there is no data\n",
      "\n"
     ]
    }
   ],
   "source": [
    "f.seek(0)\n",
    "for line in f:\n",
    "    print(line)"
   ]
  },
  {
   "cell_type": "code",
   "execution_count": 17,
   "id": "1886995f",
   "metadata": {},
   "outputs": [
    {
     "data": {
      "text/plain": [
       "'No data\\n'"
      ]
     },
     "execution_count": 17,
     "metadata": {},
     "output_type": "execute_result"
    }
   ],
   "source": [
    "f = open(\"file\",\"r\")\n",
    "f.readline()"
   ]
  },
  {
   "cell_type": "code",
   "execution_count": 18,
   "id": "9495bc10",
   "metadata": {},
   "outputs": [
    {
     "data": {
      "text/plain": [
       "'i said know there is no data\\n'"
      ]
     },
     "execution_count": 18,
     "metadata": {},
     "output_type": "execute_result"
    }
   ],
   "source": [
    "f.readline()"
   ]
  },
  {
   "cell_type": "code",
   "execution_count": 19,
   "id": "cb7075a2",
   "metadata": {},
   "outputs": [
    {
     "data": {
      "text/plain": [
       "''"
      ]
     },
     "execution_count": 19,
     "metadata": {},
     "output_type": "execute_result"
    }
   ],
   "source": [
    "f.readline()"
   ]
  },
  {
   "cell_type": "code",
   "execution_count": 21,
   "id": "fc2436cf",
   "metadata": {},
   "outputs": [
    {
     "data": {
      "text/plain": [
       "['No data\\n', 'i said know there is no data\\n']"
      ]
     },
     "execution_count": 21,
     "metadata": {},
     "output_type": "execute_result"
    }
   ],
   "source": [
    "f.seek(0)\n",
    "f.readlines()"
   ]
  },
  {
   "cell_type": "code",
   "execution_count": 22,
   "id": "215df0e1",
   "metadata": {},
   "outputs": [
    {
     "data": {
      "text/plain": [
       "['.ipynb_checkpoints',\n",
       " 'Dictionary in py.ipynb',\n",
       " 'file',\n",
       " 'file.txt',\n",
       " 'Functions.ipynb',\n",
       " 'Python Coding Problems.ipynb',\n",
       " 'Set Data Structure.ipynb',\n",
       " 'String Data Structure.ipynb',\n",
       " 'Untitled.ipynb']"
      ]
     },
     "execution_count": 22,
     "metadata": {},
     "output_type": "execute_result"
    }
   ],
   "source": [
    "os.listdir(os.getcwd())"
   ]
  },
  {
   "cell_type": "code",
   "execution_count": null,
   "id": "c59b62f9",
   "metadata": {},
   "outputs": [],
   "source": []
  }
 ],
 "metadata": {
  "kernelspec": {
   "display_name": "Python 3 (ipykernel)",
   "language": "python",
   "name": "python3"
  },
  "language_info": {
   "codemirror_mode": {
    "name": "ipython",
    "version": 3
   },
   "file_extension": ".py",
   "mimetype": "text/x-python",
   "name": "python",
   "nbconvert_exporter": "python",
   "pygments_lexer": "ipython3",
   "version": "3.9.13"
  }
 },
 "nbformat": 4,
 "nbformat_minor": 5
}
