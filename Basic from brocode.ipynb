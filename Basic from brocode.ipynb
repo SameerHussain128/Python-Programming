{
 "cells": [
  {
   "cell_type": "code",
   "execution_count": 1,
   "id": "e1b32950",
   "metadata": {},
   "outputs": [
    {
     "name": "stdout",
     "output_type": "stream",
     "text": [
      "im learning python\n"
     ]
    }
   ],
   "source": [
    "print('im learning python')"
   ]
  },
  {
   "cell_type": "code",
   "execution_count": 3,
   "id": "5adf18c4",
   "metadata": {},
   "outputs": [
    {
     "name": "stdout",
     "output_type": "stream",
     "text": [
      "im learning python\n"
     ]
    }
   ],
   "source": [
    "print(\"im learning python\")"
   ]
  },
  {
   "cell_type": "markdown",
   "id": "c8c401f0",
   "metadata": {},
   "source": [
    "name = 'Sam'\n",
    "print(type)\n",
    "print(name)"
   ]
  },
  {
   "cell_type": "code",
   "execution_count": 9,
   "id": "38210b24",
   "metadata": {},
   "outputs": [
    {
     "name": "stdout",
     "output_type": "stream",
     "text": [
      "<class 'str'>\n",
      "Salam Sam\n"
     ]
    }
   ],
   "source": [
    "name = 'Sam'\n",
    "print(type(name))\n",
    "print(\"Salam \"+name)"
   ]
  },
  {
   "cell_type": "code",
   "execution_count": 12,
   "id": "bb227aed",
   "metadata": {},
   "outputs": [
    {
     "name": "stdout",
     "output_type": "stream",
     "text": [
      "Sameer Hussain\n"
     ]
    }
   ],
   "source": [
    "first_name = \"Sameer\"\n",
    "last_name = \"Hussain\"\n",
    "fullname = first_name +\" \" + last_name\n",
    "print(fullname)"
   ]
  },
  {
   "cell_type": "code",
   "execution_count": 13,
   "id": "fa7dfdf0",
   "metadata": {},
   "outputs": [
    {
     "name": "stdout",
     "output_type": "stream",
     "text": [
      "hi, hw r u Sameer Hussain\n"
     ]
    }
   ],
   "source": [
    "first_name = \"Sameer\"\n",
    "last_name = \"Hussain\"\n",
    "fullname = first_name +\" \" + last_name\n",
    "print(\"hi, hw r u \" + fullname)"
   ]
  },
  {
   "cell_type": "markdown",
   "id": "e4bb3ec5",
   "metadata": {},
   "source": [
    "## Int "
   ]
  },
  {
   "cell_type": "code",
   "execution_count": 14,
   "id": "fa5fd77e",
   "metadata": {},
   "outputs": [
    {
     "name": "stdout",
     "output_type": "stream",
     "text": [
      "22\n"
     ]
    }
   ],
   "source": [
    "age = 21\n",
    "age = age + 1\n",
    "print(age)"
   ]
  },
  {
   "cell_type": "code",
   "execution_count": 15,
   "id": "8eca260a",
   "metadata": {},
   "outputs": [
    {
     "name": "stdout",
     "output_type": "stream",
     "text": [
      "22\n"
     ]
    }
   ],
   "source": [
    "age = 21\n",
    "age += 1\n",
    "print(age)"
   ]
  },
  {
   "cell_type": "code",
   "execution_count": 16,
   "id": "a4365e7f",
   "metadata": {},
   "outputs": [
    {
     "name": "stdout",
     "output_type": "stream",
     "text": [
      "<class 'int'>\n"
     ]
    }
   ],
   "source": [
    "age = 21\n",
    "age += 1\n",
    "print(type(age))"
   ]
  },
  {
   "cell_type": "code",
   "execution_count": 17,
   "id": "32073e40",
   "metadata": {},
   "outputs": [
    {
     "name": "stdout",
     "output_type": "stream",
     "text": [
      "<class 'int'>\n"
     ]
    }
   ],
   "source": [
    "print(type(22))"
   ]
  },
  {
   "cell_type": "code",
   "execution_count": 19,
   "id": "41198786",
   "metadata": {},
   "outputs": [
    {
     "name": "stdout",
     "output_type": "stream",
     "text": [
      "<class 'str'>\n"
     ]
    }
   ],
   "source": [
    "print(type('hi'))"
   ]
  },
  {
   "cell_type": "code",
   "execution_count": 23,
   "id": "6a40218b",
   "metadata": {},
   "outputs": [
    {
     "name": "stdout",
     "output_type": "stream",
     "text": [
      "your age is : 21\n"
     ]
    }
   ],
   "source": [
    "age = 21\n",
    "print(\"your age is : \"+str(age))"
   ]
  },
  {
   "cell_type": "code",
   "execution_count": 22,
   "id": "21adf5a8",
   "metadata": {},
   "outputs": [
    {
     "name": "stdout",
     "output_type": "stream",
     "text": [
      "your age is : 22\n"
     ]
    }
   ],
   "source": [
    "age = 21\n",
    "age += 1\n",
    "print(\"your age is : \"+str(age))"
   ]
  },
  {
   "cell_type": "code",
   "execution_count": 25,
   "id": "ad5f52b7",
   "metadata": {},
   "outputs": [
    {
     "name": "stdout",
     "output_type": "stream",
     "text": [
      "<class 'float'>\n"
     ]
    }
   ],
   "source": [
    "print(type(250.5))"
   ]
  },
  {
   "cell_type": "code",
   "execution_count": 24,
   "id": "f2b06ca9",
   "metadata": {},
   "outputs": [
    {
     "name": "stdout",
     "output_type": "stream",
     "text": [
      "250.5\n",
      "<class 'float'>\n"
     ]
    }
   ],
   "source": [
    "height = 250.5\n",
    "print(height)\n",
    "print(type(height))"
   ]
  },
  {
   "cell_type": "code",
   "execution_count": 28,
   "id": "17511f58",
   "metadata": {},
   "outputs": [
    {
     "name": "stdout",
     "output_type": "stream",
     "text": [
      "True\n",
      "<class 'bool'>\n"
     ]
    }
   ],
   "source": [
    "human = True\n",
    "print(human)\n",
    "print(type(human))"
   ]
  },
  {
   "cell_type": "code",
   "execution_count": 29,
   "id": "447438ca",
   "metadata": {},
   "outputs": [
    {
     "name": "stdout",
     "output_type": "stream",
     "text": [
      "False\n",
      "<class 'bool'>\n"
     ]
    }
   ],
   "source": [
    "human = False\n",
    "print(human)\n",
    "print(type(human))"
   ]
  },
  {
   "cell_type": "markdown",
   "id": "463d0b8b",
   "metadata": {},
   "source": [
    "## Multiple Variables"
   ]
  },
  {
   "cell_type": "code",
   "execution_count": 1,
   "id": "139e57fd",
   "metadata": {},
   "outputs": [
    {
     "name": "stdout",
     "output_type": "stream",
     "text": [
      "sameer\n",
      "21\n",
      "200.5\n",
      "True\n"
     ]
    }
   ],
   "source": [
    "name = 'sameer'\n",
    "age = 21\n",
    "height = 200.5\n",
    "human = True\n",
    "\n",
    "print(name)\n",
    "print(age)\n",
    "print(height)\n",
    "print(human)"
   ]
  },
  {
   "cell_type": "code",
   "execution_count": 2,
   "id": "4ee14a8e",
   "metadata": {},
   "outputs": [
    {
     "name": "stdout",
     "output_type": "stream",
     "text": [
      "sameer\n",
      "21\n",
      "200.5\n",
      "True\n"
     ]
    }
   ],
   "source": [
    "# IN ONE LINE DECLARATION\n",
    "name , age , height, human = 'sameer', 21, 200.5, True\n",
    "print(name)\n",
    "print(age)\n",
    "print(height)\n",
    "print(human)"
   ]
  },
  {
   "cell_type": "code",
   "execution_count": 3,
   "id": "6e177cbc",
   "metadata": {},
   "outputs": [
    {
     "name": "stdout",
     "output_type": "stream",
     "text": [
      "30\n",
      "30\n",
      "30\n",
      "30\n"
     ]
    }
   ],
   "source": [
    "doraemon = 30\n",
    "nobita = 30\n",
    "suniyo = 30\n",
    "giyan = 30\n",
    "\n",
    "print(doraemon)\n",
    "print(nobita)\n",
    "print(suniyo)\n",
    "print(giyan)       # this we can write in one line see below example "
   ]
  },
  {
   "cell_type": "code",
   "execution_count": 4,
   "id": "1ce95b11",
   "metadata": {},
   "outputs": [
    {
     "name": "stdout",
     "output_type": "stream",
     "text": [
      "30\n"
     ]
    }
   ],
   "source": [
    "doraemon = nobita = suniyo = giyan = 30\n",
    "\n",
    "print(nobita)   # Randomly Print any one but we get ' 30 ' only"
   ]
  },
  {
   "cell_type": "code",
   "execution_count": 5,
   "id": "c46c7375",
   "metadata": {},
   "outputs": [
    {
     "name": "stdout",
     "output_type": "stream",
     "text": [
      "7\n"
     ]
    }
   ],
   "source": [
    "name = 'hussain'        # Length\n",
    "print(len(name))"
   ]
  },
  {
   "cell_type": "code",
   "execution_count": 12,
   "id": "cf01254e",
   "metadata": {},
   "outputs": [
    {
     "name": "stdout",
     "output_type": "stream",
     "text": [
      "2\n"
     ]
    }
   ],
   "source": [
    "name = 'hussain'         # Find\n",
    "print(name.find('s'))"
   ]
  },
  {
   "cell_type": "code",
   "execution_count": 14,
   "id": "3c0ed1ab",
   "metadata": {},
   "outputs": [
    {
     "name": "stdout",
     "output_type": "stream",
     "text": [
      "HUSSAIN\n"
     ]
    }
   ],
   "source": [
    "name = 'hussain'         # Upper\n",
    "print(name.upper())"
   ]
  },
  {
   "cell_type": "code",
   "execution_count": 15,
   "id": "771b783c",
   "metadata": {},
   "outputs": [
    {
     "name": "stdout",
     "output_type": "stream",
     "text": [
      "hussain\n"
     ]
    }
   ],
   "source": [
    "name = 'hussain'         # lower\n",
    "print(name.lower())"
   ]
  },
  {
   "cell_type": "code",
   "execution_count": 16,
   "id": "7160034b",
   "metadata": {},
   "outputs": [
    {
     "name": "stdout",
     "output_type": "stream",
     "text": [
      "False\n"
     ]
    }
   ],
   "source": [
    "name = 'hussain'         # Digit\n",
    "print(name.isdigit())"
   ]
  },
  {
   "cell_type": "code",
   "execution_count": 17,
   "id": "e3bca5db",
   "metadata": {},
   "outputs": [
    {
     "name": "stdout",
     "output_type": "stream",
     "text": [
      "1\n"
     ]
    }
   ],
   "source": [
    "name = 'hussain'         # count\n",
    "print(name.count('a'))"
   ]
  },
  {
   "cell_type": "code",
   "execution_count": 18,
   "id": "de0b55c4",
   "metadata": {},
   "outputs": [
    {
     "name": "stdout",
     "output_type": "stream",
     "text": [
      "2\n"
     ]
    }
   ],
   "source": [
    "name = 'hussain'         # count\n",
    "print(name.count('s'))"
   ]
  },
  {
   "cell_type": "code",
   "execution_count": 19,
   "id": "55e2aaa0",
   "metadata": {},
   "outputs": [
    {
     "name": "stdout",
     "output_type": "stream",
     "text": [
      "Liger\n"
     ]
    }
   ],
   "source": [
    "name = 'Tiger'         # Replace a letter  so String Mutable\n",
    "print(name.replace('T','L'))"
   ]
  },
  {
   "cell_type": "code",
   "execution_count": null,
   "id": "a13a9e4b",
   "metadata": {},
   "outputs": [],
   "source": [
    "name = 'Tiger'         # Replace a letter  so String Mutable\n",
    "print(name.replace('Tiger','Li'))"
   ]
  },
  {
   "cell_type": "code",
   "execution_count": 24,
   "id": "ba111a87",
   "metadata": {},
   "outputs": [
    {
     "name": "stdout",
     "output_type": "stream",
     "text": [
      "global\n",
      "10\n"
     ]
    }
   ],
   "source": [
    "l = 10 #Global\n",
    "def function(n):\n",
    "    l = 5  #Local\n",
    "    if l == 5 :\n",
    "        print('local')\n",
    "    else :\n",
    "        print(\"global\")\n",
    "    print(l)\n",
    "function(\"hello\")"
   ]
  },
  {
   "cell_type": "code",
   "execution_count": 30,
   "id": "d2173c8d",
   "metadata": {},
   "outputs": [
    {
     "name": "stdout",
     "output_type": "stream",
     "text": [
      "55 8\n"
     ]
    }
   ],
   "source": [
    "l = 10 #Global\n",
    "\n",
    "def function(n):\n",
    "    #l = 5  #Local\n",
    "    m = 8\n",
    "    global l\n",
    "    l = l + 45\n",
    "    print(l,m)\n",
    "    \n",
    "function(\"hello\")"
   ]
  },
  {
   "cell_type": "code",
   "execution_count": 46,
   "id": "559176aa",
   "metadata": {},
   "outputs": [
    {
     "name": "stdout",
     "output_type": "stream",
     "text": [
      "before calling hussain() 53\n",
      "after calling hussain() 53\n"
     ]
    }
   ],
   "source": [
    "def sameer():\n",
    "    a = 53\n",
    "    def hussain():\n",
    "        global a\n",
    "        a = 100\n",
    "    print(\"before calling hussain()\", a)\n",
    "    hussain()\n",
    "    print(\"after calling hussain()\", a)\n",
    "    \n",
    "sameer()"
   ]
  },
  {
   "cell_type": "code",
   "execution_count": 53,
   "id": "e0fc8cc3",
   "metadata": {},
   "outputs": [
    {
     "name": "stdout",
     "output_type": "stream",
     "text": [
      "after calling hussain() 53\n",
      "50\n"
     ]
    }
   ],
   "source": [
    "a = 50\n",
    "def sameer():\n",
    "    a = 53\n",
    "    def hussain():\n",
    "        global a\n",
    "        a = 100\n",
    "    print(\"after calling hussain()\", a)\n",
    "    \n",
    "sameer()\n",
    "print(a)"
   ]
  },
  {
   "cell_type": "code",
   "execution_count": null,
   "id": "d1d3044b",
   "metadata": {},
   "outputs": [],
   "source": []
  },
  {
   "cell_type": "code",
   "execution_count": null,
   "id": "50d1ad07",
   "metadata": {},
   "outputs": [],
   "source": []
  }
 ],
 "metadata": {
  "kernelspec": {
   "display_name": "Python 3 (ipykernel)",
   "language": "python",
   "name": "python3"
  },
  "language_info": {
   "codemirror_mode": {
    "name": "ipython",
    "version": 3
   },
   "file_extension": ".py",
   "mimetype": "text/x-python",
   "name": "python",
   "nbconvert_exporter": "python",
   "pygments_lexer": "ipython3",
   "version": "3.9.13"
  }
 },
 "nbformat": 4,
 "nbformat_minor": 5
}
