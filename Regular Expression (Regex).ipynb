{
 "cells": [
  {
   "cell_type": "code",
   "execution_count": null,
   "id": "1491fc8a",
   "metadata": {},
   "outputs": [],
   "source": [
    "import re"
   ]
  },
  {
   "cell_type": "code",
   "execution_count": null,
   "id": "f8f01bfe",
   "metadata": {},
   "outputs": [],
   "source": [
    "s = '''sameer is 24 and hussain is 23\n",
    "hashmi is 22 and mohd is 21'''"
   ]
  },
  {
   "cell_type": "code",
   "execution_count": null,
   "id": "2c4ac3a1",
   "metadata": {},
   "outputs": [],
   "source": [
    "s"
   ]
  },
  {
   "cell_type": "code",
   "execution_count": null,
   "id": "5e467e65",
   "metadata": {},
   "outputs": [],
   "source": [
    "import re\n",
    "ages = re.findall(r'\\d{1,3}',s)"
   ]
  },
  {
   "cell_type": "code",
   "execution_count": null,
   "id": "018052ea",
   "metadata": {},
   "outputs": [],
   "source": [
    "ages"
   ]
  },
  {
   "cell_type": "code",
   "execution_count": null,
   "id": "0c136f7b",
   "metadata": {},
   "outputs": [],
   "source": [
    "names = re.findall(r'\\d[A-Z][a-z]*',s)"
   ]
  },
  {
   "cell_type": "code",
   "execution_count": null,
   "id": "c75fac9d",
   "metadata": {},
   "outputs": [],
   "source": [
    "names"
   ]
  },
  {
   "cell_type": "code",
   "execution_count": null,
   "id": "36f91216",
   "metadata": {},
   "outputs": [],
   "source": [
    "s"
   ]
  },
  {
   "cell_type": "code",
   "execution_count": null,
   "id": "f0403ccb",
   "metadata": {},
   "outputs": [],
   "source": [
    "dict = {}\n",
    "x = 0\n",
    "for i in names:\n",
    "    dict[i] = ages[x]\n",
    "    x+=1\n",
    "print(dict)"
   ]
  },
  {
   "cell_type": "code",
   "execution_count": null,
   "id": "96d0ec9c",
   "metadata": {},
   "outputs": [],
   "source": [
    "import re\n",
    "s = 'Where there is Will there is a way'\n",
    "if re.search('Will',s):\n",
    "    print(\"Got it\")\n"
   ]
  },
  {
   "cell_type": "code",
   "execution_count": null,
   "id": "e16b4167",
   "metadata": {},
   "outputs": [],
   "source": [
    "a = re.findall('there',s)\n",
    "for i in a:\n",
    "    print(i)"
   ]
  },
  {
   "cell_type": "code",
   "execution_count": null,
   "id": "f762ad1b",
   "metadata": {},
   "outputs": [],
   "source": [
    "for i in re.finditer('there',s):\n",
    "    l = i.span()\n",
    "    print(l)"
   ]
  },
  {
   "cell_type": "code",
   "execution_count": null,
   "id": "1b88c1cc",
   "metadata": {},
   "outputs": [],
   "source": [
    "import re\n",
    "str = 'sat,hat,mat,pat'\n",
    "s1 = re.findall('[shmp]at',str)\n",
    "for i in s1:\n",
    "    print(i)"
   ]
  },
  {
   "cell_type": "code",
   "execution_count": null,
   "id": "c020efae",
   "metadata": {},
   "outputs": [],
   "source": [
    "import re\n",
    "f = 'sat,hat,mat,pat'\n",
    "regex = re.compile('[h]at')\n",
    "f = regex.sub('food',f)\n",
    "print(f)"
   ]
  },
  {
   "cell_type": "code",
   "execution_count": null,
   "id": "0eae56fb",
   "metadata": {},
   "outputs": [],
   "source": [
    "# \\w [a-zA-Z0-9_]\n",
    "# \\w [^a-zA-Z0-9_]"
   ]
  },
  {
   "cell_type": "code",
   "execution_count": 37,
   "id": "c5811f44",
   "metadata": {},
   "outputs": [
    {
     "name": "stdout",
     "output_type": "stream",
     "text": [
      "Given Number : 123465789123\n",
      "Whos number is this\n"
     ]
    }
   ],
   "source": [
    "import re\n",
    "phn = input(\"Given Number : \")\n",
    "if re.search(\"\\w{10}\",phn):\n",
    "    print(\"Whos number is this\")\n",
    "else:\n",
    "    print(\"Given number is incorrect, Give 10 digits Num\")"
   ]
  },
  {
   "cell_type": "code",
   "execution_count": 32,
   "id": "bd4fe4e9",
   "metadata": {},
   "outputs": [
    {
     "name": "stdout",
     "output_type": "stream",
     "text": [
      "Whos number is this\n"
     ]
    }
   ],
   "source": [
    "import re\n",
    "phn = '888-777-6666'\n",
    "if re.search('\\w{3}-\\w{3}-\\w{4}',phn):\n",
    "    print(\"Whos number is this\")"
   ]
  },
  {
   "cell_type": "code",
   "execution_count": 11,
   "id": "deaf210f",
   "metadata": {},
   "outputs": [
    {
     "name": "stdout",
     "output_type": "stream",
     "text": [
      "Nice Name\n"
     ]
    }
   ],
   "source": [
    "if re.search(\"\\w{2,20}\\s\\w{2,20}\",'Sameer Hussain'):\n",
    "    print(\"Nice Name\")"
   ]
  },
  {
   "cell_type": "code",
   "execution_count": 15,
   "id": "37b2edc6",
   "metadata": {},
   "outputs": [
    {
     "name": "stdout",
     "output_type": "stream",
     "text": [
      "Given Name : sam h\n",
      "Provide Proper name with First and Last name and a Space between\n"
     ]
    }
   ],
   "source": [
    "name = str(input('Given Name : '))\n",
    "if re.search(\"\\w{2,20}\\s\\w{2,20}\",name):\n",
    "    print(\"Nice Name\")\n",
    "else:\n",
    "    print(\"Provide Proper name with First and Last name and a Space between\")"
   ]
  },
  {
   "cell_type": "code",
   "execution_count": 40,
   "id": "c14cc9ab",
   "metadata": {},
   "outputs": [
    {
     "name": "stdout",
     "output_type": "stream",
     "text": [
      "Email Matches :  2\n"
     ]
    }
   ],
   "source": [
    "email = 'mohdsameerhussain28@gmail.com hussain@gmail.com @mo.com ind@.com'\n",
    "print(\"Email Matches : \", len(re.findall('[\\w._%+-]{1,20}@[\\w.-]{2,20}.[A-za-z]{2,3}',email)))"
   ]
  },
  {
   "cell_type": "code",
   "execution_count": 54,
   "id": "a6bf3e82",
   "metadata": {},
   "outputs": [
    {
     "ename": "SyntaxError",
     "evalue": "unexpected EOF while parsing (3806110626.py, line 4)",
     "output_type": "error",
     "traceback": [
      "\u001b[1;36m  File \u001b[1;32m\"C:\\Users\\SAMEER\\AppData\\Local\\Temp\\ipykernel_20076\\3806110626.py\"\u001b[1;36m, line \u001b[1;32m4\u001b[0m\n\u001b[1;33m    \u001b[0m\n\u001b[1;37m    ^\u001b[0m\n\u001b[1;31mSyntaxError\u001b[0m\u001b[1;31m:\u001b[0m unexpected EOF while parsing\n"
     ]
    }
   ],
   "source": [
    "email = input('Given Email')\n",
    "\n",
    "print(\"Email Matches : \", len if re.search(\"[\\w._%+-]{1,20}@[\\w.-]{2,20}.[A-za-z]{2,3}\",email)\n",
    "\n"
   ]
  },
  {
   "cell_type": "code",
   "execution_count": null,
   "id": "12be2c06",
   "metadata": {},
   "outputs": [],
   "source": []
  }
 ],
 "metadata": {
  "kernelspec": {
   "display_name": "Python 3 (ipykernel)",
   "language": "python",
   "name": "python3"
  },
  "language_info": {
   "codemirror_mode": {
    "name": "ipython",
    "version": 3
   },
   "file_extension": ".py",
   "mimetype": "text/x-python",
   "name": "python",
   "nbconvert_exporter": "python",
   "pygments_lexer": "ipython3",
   "version": "3.9.13"
  }
 },
 "nbformat": 4,
 "nbformat_minor": 5
}
