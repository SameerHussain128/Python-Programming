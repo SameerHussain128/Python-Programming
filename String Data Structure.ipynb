{
 "cells": [
  {
   "cell_type": "markdown",
   "id": "9ed5787f",
   "metadata": {},
   "source": [
    "### sequence of characters is called String"
   ]
  },
  {
   "cell_type": "code",
   "execution_count": 1,
   "id": "b7596789",
   "metadata": {},
   "outputs": [
    {
     "name": "stdout",
     "output_type": "stream",
     "text": [
      "hello\n"
     ]
    }
   ],
   "source": [
    "print('hello')"
   ]
  },
  {
   "cell_type": "code",
   "execution_count": 2,
   "id": "f7986be8",
   "metadata": {},
   "outputs": [
    {
     "name": "stdout",
     "output_type": "stream",
     "text": [
      "hello\n"
     ]
    }
   ],
   "source": [
    "print(\"hello\")"
   ]
  },
  {
   "cell_type": "code",
   "execution_count": 3,
   "id": "5c4c3fb6",
   "metadata": {},
   "outputs": [
    {
     "name": "stdout",
     "output_type": "stream",
     "text": [
      "python\n"
     ]
    }
   ],
   "source": [
    "mystring = 'python'\n",
    "print(mystring)"
   ]
  },
  {
   "cell_type": "code",
   "execution_count": 4,
   "id": "b789ba94",
   "metadata": {},
   "outputs": [
    {
     "name": "stdout",
     "output_type": "stream",
     "text": [
      "python\n"
     ]
    }
   ],
   "source": [
    "mystring = \"python\"\n",
    "print(mystring)"
   ]
  },
  {
   "cell_type": "code",
   "execution_count": 5,
   "id": "14001978",
   "metadata": {},
   "outputs": [
    {
     "name": "stdout",
     "output_type": "stream",
     "text": [
      "p\n",
      "n\n",
      "tho\n"
     ]
    }
   ],
   "source": [
    "mystring = \"python\"\n",
    "\n",
    "print(mystring[0])\n",
    "print(mystring[-1])\n",
    "print(mystring[2:5])"
   ]
  },
  {
   "cell_type": "code",
   "execution_count": 6,
   "id": "79a7f6ce",
   "metadata": {},
   "outputs": [
    {
     "ename": "IndexError",
     "evalue": "string index out of range",
     "output_type": "error",
     "traceback": [
      "\u001b[1;31m---------------------------------------------------------------------------\u001b[0m",
      "\u001b[1;31mIndexError\u001b[0m                                Traceback (most recent call last)",
      "\u001b[1;32m~\\AppData\\Local\\Temp\\ipykernel_24556\\3650914648.py\u001b[0m in \u001b[0;36m<module>\u001b[1;34m\u001b[0m\n\u001b[1;32m----> 1\u001b[1;33m \u001b[0mprint\u001b[0m\u001b[1;33m(\u001b[0m\u001b[0mmystring\u001b[0m\u001b[1;33m[\u001b[0m\u001b[1;36m10\u001b[0m\u001b[1;33m]\u001b[0m\u001b[1;33m)\u001b[0m\u001b[1;33m\u001b[0m\u001b[1;33m\u001b[0m\u001b[0m\n\u001b[0m",
      "\u001b[1;31mIndexError\u001b[0m: string index out of range"
     ]
    }
   ],
   "source": [
    "print(mystring[10])\n"
   ]
  },
  {
   "cell_type": "code",
   "execution_count": 7,
   "id": "6a3fd493",
   "metadata": {},
   "outputs": [
    {
     "data": {
      "text/plain": [
       "'o'"
      ]
     },
     "execution_count": 7,
     "metadata": {},
     "output_type": "execute_result"
    }
   ],
   "source": [
    "# STRING IS IMMUTABLE, WE CANNOT DO CHANGES OR MODIFY\n",
    "\n",
    "mystring = \"python\"\n",
    "mystring[4]\n",
    "\n",
    "#check down example"
   ]
  },
  {
   "cell_type": "code",
   "execution_count": 8,
   "id": "f0fe1d83",
   "metadata": {},
   "outputs": [
    {
     "ename": "TypeError",
     "evalue": "'str' object does not support item assignment",
     "output_type": "error",
     "traceback": [
      "\u001b[1;31m---------------------------------------------------------------------------\u001b[0m",
      "\u001b[1;31mTypeError\u001b[0m                                 Traceback (most recent call last)",
      "\u001b[1;32m~\\AppData\\Local\\Temp\\ipykernel_24556\\3837074976.py\u001b[0m in \u001b[0;36m<module>\u001b[1;34m\u001b[0m\n\u001b[0;32m      1\u001b[0m \u001b[0mmystring\u001b[0m \u001b[1;33m=\u001b[0m \u001b[1;34m\"python\"\u001b[0m\u001b[1;33m\u001b[0m\u001b[1;33m\u001b[0m\u001b[0m\n\u001b[1;32m----> 2\u001b[1;33m \u001b[0mmystring\u001b[0m\u001b[1;33m[\u001b[0m\u001b[1;36m4\u001b[0m\u001b[1;33m]\u001b[0m \u001b[1;33m=\u001b[0m \u001b[1;34m's'\u001b[0m\u001b[1;33m\u001b[0m\u001b[1;33m\u001b[0m\u001b[0m\n\u001b[0m",
      "\u001b[1;31mTypeError\u001b[0m: 'str' object does not support item assignment"
     ]
    }
   ],
   "source": [
    "# STRING IS IMMUTABLE, WE CANNOT DO CHANGES OR MODIFY\n",
    "\n",
    "mystring = \"python\"\n",
    "mystring[4] = 's'"
   ]
  },
  {
   "cell_type": "code",
   "execution_count": 9,
   "id": "04d913cd",
   "metadata": {},
   "outputs": [],
   "source": [
    "del mystring"
   ]
  },
  {
   "cell_type": "code",
   "execution_count": 10,
   "id": "df6efebb",
   "metadata": {},
   "outputs": [
    {
     "ename": "NameError",
     "evalue": "name 'mystring' is not defined",
     "output_type": "error",
     "traceback": [
      "\u001b[1;31m---------------------------------------------------------------------------\u001b[0m",
      "\u001b[1;31mNameError\u001b[0m                                 Traceback (most recent call last)",
      "\u001b[1;32m~\\AppData\\Local\\Temp\\ipykernel_24556\\551408598.py\u001b[0m in \u001b[0;36m<module>\u001b[1;34m\u001b[0m\n\u001b[1;32m----> 1\u001b[1;33m \u001b[0mprint\u001b[0m\u001b[1;33m(\u001b[0m\u001b[0mmystring\u001b[0m\u001b[1;33m)\u001b[0m\u001b[1;33m\u001b[0m\u001b[1;33m\u001b[0m\u001b[0m\n\u001b[0m",
      "\u001b[1;31mNameError\u001b[0m: name 'mystring' is not defined"
     ]
    }
   ],
   "source": [
    "print(mystring) #deleted"
   ]
  },
  {
   "cell_type": "code",
   "execution_count": 13,
   "id": "47844c59",
   "metadata": {},
   "outputs": [
    {
     "name": "stdout",
     "output_type": "stream",
     "text": [
      "Hello John\n",
      "Hello Hello Hello \n"
     ]
    }
   ],
   "source": [
    "#Concatenation 0f 2 Strings\n",
    "\n",
    "s1 = 'Hello ' # <-- space \n",
    "s2 = 'John'\n",
    "print(s1 + s2)\n",
    "\n",
    "\n",
    "#Repeat string n times\n",
    "print(s1*3)"
   ]
  },
  {
   "cell_type": "code",
   "execution_count": 15,
   "id": "a9246586",
   "metadata": {},
   "outputs": [
    {
     "name": "stdout",
     "output_type": "stream",
     "text": [
      "2 mil gya\n"
     ]
    }
   ],
   "source": [
    "count = 0\n",
    "for i in \"Hello World\" :\n",
    "    if i == 'o':\n",
    "        count += 1\n",
    "print(count,'mil gya')"
   ]
  },
  {
   "cell_type": "code",
   "execution_count": 17,
   "id": "a861c538",
   "metadata": {},
   "outputs": [
    {
     "name": "stdout",
     "output_type": "stream",
     "text": [
      "True\n",
      "True\n",
      "False\n"
     ]
    }
   ],
   "source": [
    "print('l' in 'Hello World')   # in  operator to test membership\n",
    "print('or' in 'Hello World')\n",
    "\n",
    "print('ot' in 'Hello World')"
   ]
  },
  {
   "cell_type": "code",
   "execution_count": 18,
   "id": "c86078d6",
   "metadata": {},
   "outputs": [
    {
     "data": {
      "text/plain": [
       "'ex'"
      ]
     },
     "execution_count": 18,
     "metadata": {},
     "output_type": "execute_result"
    }
   ],
   "source": [
    "'EX'.lower()"
   ]
  },
  {
   "cell_type": "code",
   "execution_count": 20,
   "id": "a130e554",
   "metadata": {},
   "outputs": [
    {
     "data": {
      "text/plain": [
       "'EX'"
      ]
     },
     "execution_count": 20,
     "metadata": {},
     "output_type": "execute_result"
    }
   ],
   "source": [
    "'ex'.upper()"
   ]
  },
  {
   "cell_type": "code",
   "execution_count": 21,
   "id": "3911f9f3",
   "metadata": {},
   "outputs": [
    {
     "data": {
      "text/plain": [
       "['kaise', 'ho', 'aap', 'sab', 'log']"
      ]
     },
     "execution_count": 21,
     "metadata": {},
     "output_type": "execute_result"
    }
   ],
   "source": [
    "\"kaise ho aap sab log\".split()    # SPLITING THE SENT"
   ]
  },
  {
   "cell_type": "code",
   "execution_count": 25,
   "id": "70a443bc",
   "metadata": {},
   "outputs": [
    {
     "data": {
      "text/plain": [
       "'kaise-ho-aap-sab-log'"
      ]
     },
     "execution_count": 25,
     "metadata": {},
     "output_type": "execute_result"
    }
   ],
   "source": [
    "\"-\".join(['kaise', 'ho', 'aap', 'sab', 'log'])   #JOIN THE SENT BY GIVEN ELEMENT"
   ]
  },
  {
   "cell_type": "code",
   "execution_count": 26,
   "id": "fb1bac7d",
   "metadata": {},
   "outputs": [
    {
     "data": {
      "text/plain": [
       "'kaise_ho_aap_sab_log'"
      ]
     },
     "execution_count": 26,
     "metadata": {},
     "output_type": "execute_result"
    }
   ],
   "source": [
    "\"_\".join(['kaise', 'ho', 'aap', 'sab', 'log'])"
   ]
  },
  {
   "cell_type": "code",
   "execution_count": 27,
   "id": "e3e61489",
   "metadata": {},
   "outputs": [
    {
     "data": {
      "text/plain": [
       "9"
      ]
     },
     "execution_count": 27,
     "metadata": {},
     "output_type": "execute_result"
    }
   ],
   "source": [
    "\"Good Morning\".find(\"in\")"
   ]
  },
  {
   "cell_type": "code",
   "execution_count": 28,
   "id": "4b4ed390",
   "metadata": {},
   "outputs": [
    {
     "data": {
      "text/plain": [
       "'Good Morning'"
      ]
     },
     "execution_count": 28,
     "metadata": {},
     "output_type": "execute_result"
    }
   ],
   "source": [
    "\"Bad Morning\".replace(\"Bad\",\"Good\")"
   ]
  },
  {
   "cell_type": "code",
   "execution_count": 29,
   "id": "435687e0",
   "metadata": {},
   "outputs": [
    {
     "name": "stdout",
     "output_type": "stream",
     "text": [
      "Bad Morning\n",
      "Good Morning\n"
     ]
    }
   ],
   "source": [
    "#String is Immutable but we can use Replace Function but we cannot change Index but entire string\n",
    "s1 = \"Bad Morning\"\n",
    "s2 = s1.replace(\"Bad\",\"Good\")\n",
    "print(s1)\n",
    "print(s2)"
   ]
  },
  {
   "cell_type": "code",
   "execution_count": 31,
   "id": "c340a7db",
   "metadata": {},
   "outputs": [
    {
     "name": "stdout",
     "output_type": "stream",
     "text": [
      " Not Pallindrome\n"
     ]
    }
   ],
   "source": [
    "# Python  program to check Pallindrome\n",
    "mystr = 'Sameer'\n",
    "mystr = mystr.lower()\n",
    "revstr = reversed(mystr)\n",
    "if list(mystr) == list(revstr):\n",
    "    print('Pallindrome')\n",
    "else:\n",
    "    print(' Not Pallindrome')"
   ]
  },
  {
   "cell_type": "code",
   "execution_count": 33,
   "id": "fe145291",
   "metadata": {},
   "outputs": [
    {
     "name": "stdout",
     "output_type": "stream",
     "text": [
      "Alphabetical\n",
      "Python\n",
      "in\n",
      "order\n",
      "program\n",
      "sort\n",
      "to\n",
      "words\n"
     ]
    }
   ],
   "source": [
    "#Sent to Alphabetical Order\n",
    "\n",
    "mystr = \"Python program to sort words in Alphabetical order\"\n",
    "words = mystr.split()\n",
    "words.sort()\n",
    "for word in words:\n",
    "    print(word)"
   ]
  },
  {
   "cell_type": "code",
   "execution_count": 2,
   "id": "38a2ca70",
   "metadata": {},
   "outputs": [
    {
     "name": "stdout",
     "output_type": "stream",
     "text": [
      "\n"
     ]
    }
   ],
   "source": [
    "x = \"banana\"\n",
    "y = x.lstrip(\"ban\")\n",
    "print(y)"
   ]
  },
  {
   "cell_type": "code",
   "execution_count": 3,
   "id": "79bfa744",
   "metadata": {},
   "outputs": [
    {
     "name": "stdout",
     "output_type": "stream",
     "text": [
      "nohtyp\n"
     ]
    }
   ],
   "source": [
    "x = \"python\"\n",
    "y = x[::-1]\n",
    "print(y)"
   ]
  },
  {
   "cell_type": "code",
   "execution_count": null,
   "id": "0436b313",
   "metadata": {},
   "outputs": [],
   "source": []
  },
  {
   "cell_type": "code",
   "execution_count": null,
   "id": "fed3b0e1",
   "metadata": {},
   "outputs": [],
   "source": []
  },
  {
   "cell_type": "code",
   "execution_count": null,
   "id": "1f791d65",
   "metadata": {},
   "outputs": [],
   "source": []
  }
 ],
 "metadata": {
  "kernelspec": {
   "display_name": "Python 3 (ipykernel)",
   "language": "python",
   "name": "python3"
  },
  "language_info": {
   "codemirror_mode": {
    "name": "ipython",
    "version": 3
   },
   "file_extension": ".py",
   "mimetype": "text/x-python",
   "name": "python",
   "nbconvert_exporter": "python",
   "pygments_lexer": "ipython3",
   "version": "3.9.13"
  }
 },
 "nbformat": 4,
 "nbformat_minor": 5
}
